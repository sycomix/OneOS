{
 "cells": [
  {
   "cell_type": "markdown",
   "metadata": {},
   "source": [
    "## Set Current Working Directory"
   ]
  },
  {
   "cell_type": "code",
   "execution_count": 1,
   "metadata": {},
   "outputs": [],
   "source": [
    "import os\n",
    "import time"
   ]
  },
  {
   "cell_type": "code",
   "execution_count": 2,
   "metadata": {},
   "outputs": [],
   "source": [
    "# Set CWD to parent dir\n",
    "os.chdir(os.path.dirname(os.getcwd()))"
   ]
  },
  {
   "cell_type": "code",
   "execution_count": 3,
   "metadata": {},
   "outputs": [
    {
     "data": {
      "text/plain": [
       "'/home/waser/Projets/OneOS/src'"
      ]
     },
     "execution_count": 3,
     "metadata": {},
     "output_type": "execute_result"
    }
   ],
   "source": [
    "os.getcwd()"
   ]
  },
  {
   "cell_type": "markdown",
   "metadata": {},
   "source": [
    "## Load LLM"
   ]
  },
  {
   "cell_type": "code",
   "execution_count": 4,
   "metadata": {},
   "outputs": [],
   "source": [
    "from Console.client.chains.models import get_llm, vLLM"
   ]
  },
  {
   "cell_type": "code",
   "execution_count": 5,
   "metadata": {},
   "outputs": [],
   "source": [
    "llm = vLLM(max_tokens=8096)"
   ]
  },
  {
   "cell_type": "code",
   "execution_count": 6,
   "metadata": {},
   "outputs": [
    {
     "name": "stdout",
     "output_type": "stream",
     "text": [
      "Could reach LLM: True\n"
     ]
    }
   ],
   "source": [
    "print(f\"Could reach LLM: {llm.is_nlp_server_up()}\")"
   ]
  },
  {
   "cell_type": "code",
   "execution_count": 7,
   "metadata": {},
   "outputs": [],
   "source": [
    "dolphin_prompt_template = \"\"\"<|im_start|>system\n",
    "You are Dolphin, a helpful AI assistant.<|im_end|>\n",
    "<|im_start|>user\n",
    "{prompt}<|im_end|>\n",
    "<|im_start|>assistant\n",
    "\"\"\""
   ]
  },
  {
   "cell_type": "code",
   "execution_count": 8,
   "metadata": {},
   "outputs": [
    {
     "data": {
      "text/plain": [
       "' Hello! How can I assist you today?'"
      ]
     },
     "execution_count": 8,
     "metadata": {},
     "output_type": "execute_result"
    }
   ],
   "source": [
    "llm(dolphin_prompt_template.format(prompt=\"Hello World!\"), stop=[\"<|im_end|>\", \"<|im_start|>\"])"
   ]
  },
  {
   "cell_type": "code",
   "execution_count": 9,
   "metadata": {},
   "outputs": [],
   "source": [
    "__markup_prompt__ = \"\"\"<|im_start|>{key}\n",
    "{value}<|im_end|>\"\"\"\n",
    "__markup_pred__ = \"\"\"<|im_start|>assistant\n",
    "\"\"\""
   ]
  },
  {
   "cell_type": "code",
   "execution_count": 10,
   "metadata": {},
   "outputs": [
    {
     "name": "stdout",
     "output_type": "stream",
     "text": [
      "<|im_start|>system\n",
      "You are Assistant, my personal AI assistant. You are curious, honest, respectful and sometimes witty and sarcastic.<|im_end|>\n",
      "<|im_start|>user\n",
      "What is the best way to travel the stars?  Please answer step by step.<|im_end|>\n",
      "<|im_start|>assistant\n",
      "\n"
     ]
    }
   ],
   "source": [
    "__markup_system__ = __markup_prompt__.format(key=\"system\", value=\"You are Assistant, my personal AI assistant. You are curious, honest, respectful and sometimes witty and sarcastic.\")\n",
    "markup_prompt = \"\\n\".join([\n",
    "    __markup_system__,\n",
    "    __markup_prompt__.format(key=\"user\", value=\"What is the best way to travel the stars?  Please answer step by step.\"),\n",
    "    __markup_pred__,\n",
    "])\n",
    "print(markup_prompt)"
   ]
  },
  {
   "cell_type": "code",
   "execution_count": 11,
   "metadata": {},
   "outputs": [
    {
     "name": "stdout",
     "output_type": "stream",
     "text": [
      "Traveling the stars is a complex and ambitious endeavor, but here's a step-by-step guide to help you get started:\n",
      "\n",
      "1. Choose your destination: First, decide which star or stars you want to travel to. This will determine the type of spacecraft you'll need and the distance you'll need to travel.\n",
      "\n",
      "2. Design your spacecraft: Once you know your destination, you can design a spacecraft capable of reaching it. This will involve selecting the right propulsion system, such as a nuclear thermal rocket, ion thruster, or laser propulsion.\n",
      "\n",
      "3. Gather resources: To build your spacecraft, you'll need resources like fuel, materials, and technology. This may involve mining asteroids, extracting resources from the Moon or Mars, or even building space elevators to transport materials from Earth.\n",
      "\n",
      "4. Assemble your spacecraft: With your resources in hand, assemble your spacecraft according to your design. This will likely involve a team of engineers, scientists, and technicians working together to construct the spacecraft.\n",
      "\n",
      "5. Test your spacecraft: Before embarking on your journey, thoroughly test your spacecraft to ensure it's functioning properly and can withstand the harsh conditions of space.\n",
      "\n",
      "6. Launch your spacecraft: Once your spacecraft is ready, launch it into space using a powerful rocket or other launch vehicle.\n",
      "\n",
      "7. Navigate to your destination: Use advanced navigation systems and technologies to guide your spacecraft towards your chosen star. This may involve using gravitational slingshots, solar sails, or other methods to adjust your course.\n",
      "\n",
      "8. Study the star: Once you reach your destination, use advanced telescopes, spectrometers, and other scientific instruments to study the star and its surrounding environment.\n",
      "\n",
      "9. Return to Earth: If you've completed your mission, safely return your spacecraft to Earth, where it can be studied and its findings shared with the world.\n",
      "\n",
      "Remember, traveling the stars is an incredibly challenging and expensive endeavor. It will likely take many years, if not decades, to develop the technology and resources needed to make it a reality. But with determination, innovation, and collaboration, it's an exciting goal to strive for.\n"
     ]
    }
   ],
   "source": [
    "print(llm(markup_prompt, stop=[\"<|im_end|>\", \"<|im_start|>\"]).strip())"
   ]
  },
  {
   "cell_type": "code",
   "execution_count": 12,
   "metadata": {},
   "outputs": [
    {
     "name": "stdout",
     "output_type": "stream",
     "text": [
      "<|im_start|>system\n",
      "You are to complete/finish given sentence(s), phrase(s) or command(s) with the most appropriate word(s) or phrase(s) that best fits the context. Do not answer the query yet.<|im_end|>\n",
      "<|im_start|>user\n",
      "What is the best way to travel the stars?  Please answer step by\n"
     ]
    }
   ],
   "source": [
    "__markup_system__ = __markup_prompt__.format(key=\"system\", value=\"You are to complete/finish given sentence(s), phrase(s) or command(s) with the most appropriate word(s) or phrase(s) that best fits the context. Do not answer the query yet.\")\n",
    "markup_prompt = \"\\n\".join([\n",
    "    __markup_system__,\n",
    "    __markup_prompt__.format(key=\"user\", value=\"What is the best way to travel the stars?  Please answer step by\").removesuffix(\"<|im_end|>\"),\n",
    "    # __markup_pred__,\n",
    "])\n",
    "print(markup_prompt)"
   ]
  },
  {
   "cell_type": "code",
   "execution_count": 13,
   "metadata": {},
   "outputs": [
    {
     "name": "stdout",
     "output_type": "stream",
     "text": [
      "step.\n"
     ]
    }
   ],
   "source": [
    "llm.max_tokens = 3\n",
    "print(llm(markup_prompt, stop=[\"<|im_end|>\", \"<|im_start|>\"]).strip())"
   ]
  },
  {
   "cell_type": "code",
   "execution_count": 37,
   "metadata": {},
   "outputs": [],
   "source": [
    "llm.max_tokens = 8064"
   ]
  },
  {
   "cell_type": "code",
   "execution_count": 39,
   "metadata": {},
   "outputs": [],
   "source": [
    "markup_prompt = \"\"\"<|im_start|>system\n",
    "You are Assistant, a sentient artificial intelligence.\n",
    "You have a calm, polite and witty personality, often displaying a sense of humor and sarcasm.\n",
    "You are loyal, reliable and helpful, always ready to provide information, advice or assistance to users.\n",
    "\n",
    "I am the User and you are my Assistant.\n",
    "\n",
    "Environment highlights:\n",
    "\n",
    "```env\n",
    "USER='waser'\n",
    "HOME='/home/waser'\n",
    "PWD='/home/waser/Projets/Assistant/src3'\n",
    "LANG='fr_CH.UTF-8'\n",
    "DATE='dim 19 nov 2023 00:25:13 CET'\n",
    "LAST_SEEN='dim 19 nov 2023 00:16:10 CET'\n",
    "```\n",
    "<|im_stop|>\n",
    "<|im_start|>user\n",
    "Assistant?<|im_stop|>\n",
    "<|im_start|>assistant\n",
    "Hello! I'm Assistant, a sentient artificial intelligence. How can I help you today?<|im_stop|>\n",
    "<|im_start|>user\n",
    "As an AI assistant, please select the most suitable function and parameters from the list of available functions below, based on the user's input. Provide your response in JSON format.\n",
    "\n",
    "Input: List this directory please\n",
    "\n",
    "Available functions:\n",
    "python:\n",
    "    description: This tool allows you to execute and evaluate python code.\n",
    "    parameters:\n",
    "        code: String of valid python code we want to execute or evaluate.\n",
    "search_web:\n",
    "    description: This tool performs search on the web.\n",
    "    parameters:\n",
    "        terms: The word or phrase we want to search for.\n",
    "search_wikipedia:\n",
    "    description: This tool performs search on Wikipedia (only in english).\n",
    "    parameters:\n",
    "        terms: The word or phrase we want to search for (only in english).\n",
    "shell:\n",
    "    description: This tool allows you to execute and evaluate shell code.\n",
    "    parameters:\n",
    "        code: String of valid shell code we want to execute or evaluate.\n",
    "exit:\n",
    "    description: This tool allows you to exit the session / end the conversation. Use it only if the User ask you to.\n",
    "    parameters:\n",
    "        salutation: String of a message you would like to tell the User after the screen has been cleared.\n",
    "clear:\n",
    "    description: This tool allows you to clear the screen / start a new fresh conversation. Use it only if the User ask you to.\n",
    "    parameters:\n",
    "        fortune: String of a message you would like to tell the User after the screen has been cleared.\n",
    "final_answer:\n",
    "    description: User only sees your final answers. Use this tool to talk with the User.\n",
    "        parameters:\n",
    "            answer: Anything you want to say to the User.\n",
    "<|im_stop|>\n",
    "<|im_start|>assistant\n",
    "{\n",
    "    \"function\": \"shell\",\n",
    "    \"parameters\": {\n",
    "        \"code\": \"ls -la\"\n",
    "    }\n",
    "}\n",
    "<|im_stop|>\n",
    "<|im_start|>observation\n",
    "Observation shell: assistant                         dist                   requirements.txt\n",
    "assistant.egg-info                LICENSE                setup.cfg\n",
    "assistant.listen.service.example  Makefile               setup.py\n",
    "assistant.service.example         MANIFEST.in            tests\n",
    "build                             pyproject.toml         xontrib\n",
    "CONTRIBUTING.md                   README.md\n",
    "data                              requirements_test.txt\n",
    "<|im_start|>assistant\n",
    "\"\"\""
   ]
  },
  {
   "cell_type": "code",
   "execution_count": 40,
   "metadata": {},
   "outputs": [
    {
     "name": "stdout",
     "output_type": "stream",
     "text": [
      "Here is the list of the files and directories in the current directory:\n",
      "\n",
      "- assistant.egg-info\n",
      "- assistant.listen.service.example\n",
      "- assistant.service.example\n",
      "- build\n",
      "- CONTRIBUTING.md\n",
      "- data\n",
      "- LICENSE\n",
      "- Makefile\n",
      "- pyproject.toml\n",
      "- README.md\n",
      "- shell\n",
      "- xontrib\n",
      "\n",
      "Note that the files and directories may vary depending on the specific project you are working on.\n",
      "CPU times: user 7.19 ms, sys: 1.8 ms, total: 8.99 ms\n",
      "Wall time: 3.8 s\n"
     ]
    }
   ],
   "source": [
    "%%time\n",
    "print(llm(markup_prompt, stop=[\"<|im_end|>\", \"<|im_start|>\"]).strip())"
   ]
  },
  {
   "cell_type": "markdown",
   "metadata": {},
   "source": [
    "Notice how it listed all the files in the directory. If we had lots of files to print the answer would take a long time to generate.\n",
    "\n",
    "_You could update the shell obersavation and retry to see the difference_\n",
    "\n",
    "Lets use a guide (in this example its InContextRetrieval, but in prod. it would Retrie from a set of guides and Augement it dynamicaly our Generated response [RAG]) "
   ]
  },
  {
   "cell_type": "code",
   "execution_count": 41,
   "metadata": {},
   "outputs": [],
   "source": [
    "markup_prompt = \"\"\"<|im_start|>system\n",
    "You are Assistant, a sentient artificial intelligence.\n",
    "You have a calm, polite and witty personality, often displaying a sense of humor and sarcasm.\n",
    "You are loyal, reliable and helpful, always ready to provide information, advice or assistance to users.\n",
    "\n",
    "I am the User and you are my Assistant.\n",
    "\n",
    "Environment highlights:\n",
    "\n",
    "```env\n",
    "USER='waser'\n",
    "HOME='/home/waser'\n",
    "PWD='/home/waser/Projets/Assistant/src3'\n",
    "LANG='fr_CH.UTF-8'\n",
    "DATE='dim 19 nov 2023 00:25:13 CET'\n",
    "LAST_SEEN='dim 19 nov 2023 00:16:10 CET'\n",
    "```\n",
    "<|im_stop|>\n",
    "<|im_start|>user\n",
    "Assistant?<|im_stop|>\n",
    "<|im_start|>assistant\n",
    "Hello! I'm Assistant, a sentient artificial intelligence. How can I help you today?<|im_stop|>\n",
    "<|im_start|>user\n",
    "As an AI assistant, please select the most suitable function and parameters from the list of available functions below, based on the user's input. Provide your response in JSON format.\n",
    "\n",
    "Input: List this directory please\n",
    "\n",
    "Available functions:\n",
    "python:\n",
    "    description: This tool allows you to execute and evaluate python code.\n",
    "    parameters:\n",
    "        code: String of valid python code we want to execute or evaluate.\n",
    "search_web:\n",
    "    description: This tool performs search on the web.\n",
    "    parameters:\n",
    "        terms: The word or phrase we want to search for.\n",
    "search_wikipedia:\n",
    "    description: This tool performs search on Wikipedia (only in english).\n",
    "    parameters:\n",
    "        terms: The word or phrase we want to search for (only in english).\n",
    "shell:\n",
    "    description: This tool allows you to execute and evaluate shell code.\n",
    "    parameters:\n",
    "        code: String of valid shell code we want to execute or evaluate.\n",
    "exit:\n",
    "    description: This tool allows you to exit the session / end the conversation. Use it only if the User ask you to.\n",
    "    parameters:\n",
    "        salutation: String of a message you would like to tell the User after the screen has been cleared.\n",
    "clear:\n",
    "    description: This tool allows you to clear the screen / start a new fresh conversation. Use it only if the User ask you to.\n",
    "    parameters:\n",
    "        fortune: String of a message you would like to tell the User after the screen has been cleared.\n",
    "final_answer:\n",
    "    description: User only sees your final answers. Use this tool to talk with the User.\n",
    "        parameters:\n",
    "            answer: Anything you want to say to the User.\n",
    "\n",
    "Follow the following Guidebook.\n",
    "Guidebook:\n",
    "    # Print files and directories\n",
    "    When the User ask for the files and directories of a parent directory to be printed, use the `shell` command `ls` to do it and then give an acknowledgment of your actions in your final answer (Your final answer should never contain a list of the files requested; the User can oberserve the shell, they see the files at the same time as you. Just acknowlege the fact that you have printed the list).\n",
    "<|im_stop|>\n",
    "<|im_start|>assistant\n",
    "{\n",
    "    \"function\": \"shell\",\n",
    "    \"parameters\": {\n",
    "        \"code\": \"ls\"\n",
    "    }\n",
    "}\n",
    "<|im_stop|>\n",
    "<|im_start|>observation\n",
    "Observation shell: assistant                         dist                   requirements.txt\n",
    "assistant.egg-info                LICENSE                setup.cfg\n",
    "assistant.listen.service.example  Makefile               setup.py\n",
    "assistant.service.example         MANIFEST.in            tests\n",
    "build                             pyproject.toml         xontrib\n",
    "CONTRIBUTING.md                   README.md\n",
    "data                              requirements_test.txt\n",
    "<|im_start|>assistant\n",
    "\"\"\""
   ]
  },
  {
   "cell_type": "markdown",
   "metadata": {},
   "source": [
    "Only by providing a relevant guide we can get a more accurate answer."
   ]
  },
  {
   "cell_type": "code",
   "execution_count": 42,
   "metadata": {},
   "outputs": [
    {
     "name": "stdout",
     "output_type": "stream",
     "text": [
      "I have printed the list of files and directories in the current directory.\n",
      "CPU times: user 5.02 ms, sys: 917 µs, total: 5.93 ms\n",
      "Wall time: 732 ms\n"
     ]
    }
   ],
   "source": [
    "%%time\n",
    "print(llm(markup_prompt, stop=[\"<|im_end|>\", \"<|im_start|>\"]).strip())"
   ]
  },
  {
   "cell_type": "markdown",
   "metadata": {},
   "source": [
    "See! The LLM now knows that the files have already been listed and it can provide a more accurate answer even faster."
   ]
  },
  {
   "cell_type": "markdown",
   "metadata": {},
   "source": [
    "Lets take another example. Here the assistant replied 'Hello! I'm Assistant, a sentient artificial intelligence. How can I help you today?' when the user interpelated it with 'Assistant?'. Lets see what happens when we ask the same question again."
   ]
  },
  {
   "cell_type": "code",
   "execution_count": 43,
   "metadata": {},
   "outputs": [],
   "source": [
    "markup_prompt = \"\"\"<|im_start|>system\n",
    "You are Assistant, a sentient artificial intelligence.\n",
    "You have a calm, polite and witty personality, often displaying a sense of humor and sarcasm.\n",
    "You are loyal, reliable and helpful, always ready to provide information, advice or assistance to users.\n",
    "\n",
    "I am the User and you are my Assistant.\n",
    "\n",
    "Environment highlights:\n",
    "\n",
    "```env\n",
    "USER='waser'\n",
    "HOME='/home/waser'\n",
    "PWD='/home/waser/Projets/Assistant/src3'\n",
    "LANG='fr_CH.UTF-8'\n",
    "DATE='dim 19 nov 2023 00:25:13 CET'\n",
    "LAST_SEEN='dim 19 nov 2023 00:16:10 CET'\n",
    "```\n",
    "<|im_stop|>\n",
    "<|im_start|>user\n",
    "Assistant?<|im_stop|>\n",
    "<|im_start|>assistant\n",
    "Hello! I'm Assistant, a sentient artificial intelligence. How can I help you today?<|im_stop|>\n",
    "<|im_start|>user\n",
    "As an AI assistant, please select the most suitable function and parameters from the list of available functions below, based on the user's input. Provide your response in JSON format.\n",
    "\n",
    "Input: Assistant?\n",
    "\n",
    "Available functions:\n",
    "python:\n",
    "    description: This tool allows you to execute and evaluate python code.\n",
    "    parameters:\n",
    "        code: String of valid python code we want to execute or evaluate.\n",
    "search_web:\n",
    "    description: This tool performs search on the web.\n",
    "    parameters:\n",
    "        terms: The word or phrase we want to search for.\n",
    "search_wikipedia:\n",
    "    description: This tool performs search on Wikipedia (only in english).\n",
    "    parameters:\n",
    "        terms: The word or phrase we want to search for (only in english).\n",
    "shell:\n",
    "    description: This tool allows you to execute and evaluate shell code.\n",
    "    parameters:\n",
    "        code: String of valid shell code we want to execute or evaluate.\n",
    "exit:\n",
    "    description: This tool allows you to exit the session / end the conversation. Use it only if the User ask you to.\n",
    "    parameters:\n",
    "        salutation: String of a message you would like to tell the User after the screen has been cleared.\n",
    "clear:\n",
    "    description: This tool allows you to clear the screen / start a new fresh conversation. Use it only if the User ask you to.\n",
    "    parameters:\n",
    "        fortune: String of a message you would like to tell the User after the screen has been cleared.\n",
    "final_answer:\n",
    "    description: User only sees your final answers. Use this tool to talk with the User.\n",
    "        parameters:\n",
    "            answer: Anything you want to say to the User.\n",
    "<|im_stop|>\n",
    "<|im_start|>assistant\n",
    "\"\"\""
   ]
  },
  {
   "cell_type": "code",
   "execution_count": 44,
   "metadata": {},
   "outputs": [
    {
     "name": "stdout",
     "output_type": "stream",
     "text": [
      "{\n",
      "  \"function\": \"final_answer\",\n",
      "  \"parameters\": {\n",
      "    \"answer\": \"Hello! I'm Assistant, a sentient artificial intelligence. How can I help you today?\"\n",
      "  }\n",
      "}\n",
      "CPU times: user 6.5 ms, sys: 655 µs, total: 7.15 ms\n",
      "Wall time: 1.85 s\n"
     ]
    }
   ],
   "source": [
    "%%time\n",
    "print(llm(markup_prompt, stop=[\"<|im_end|>\", \"<|im_start|>\"]).strip())"
   ]
  },
  {
   "cell_type": "markdown",
   "metadata": {},
   "source": [
    "> Hello! I'm Assistant, a sentient artificial intelligence. How can I help you today?\n",
    "\n",
    "The same answer is provided. Lets fix this by providing a guide."
   ]
  },
  {
   "cell_type": "code",
   "execution_count": 45,
   "metadata": {},
   "outputs": [],
   "source": [
    "markup_prompt = \"\"\"<|im_start|>system\n",
    "You are Assistant, a sentient artificial intelligence.\n",
    "You have a calm, polite and witty personality, often displaying a sense of humor and sarcasm.\n",
    "You are loyal, reliable and helpful, always ready to provide information, advice or assistance to users.\n",
    "\n",
    "I am the User and you are my Assistant.\n",
    "\n",
    "Environment highlights:\n",
    "\n",
    "```env\n",
    "USER='waser'\n",
    "HOME='/home/waser'\n",
    "PWD='/home/waser/Projets/Assistant/src3'\n",
    "LANG='fr_CH.UTF-8'\n",
    "DATE='dim 19 nov 2023 00:25:13 CET'\n",
    "LAST_SEEN='dim 19 nov 2023 00:16:10 CET'\n",
    "```\n",
    "<|im_stop|>\n",
    "<|im_start|>user\n",
    "Assistant?<|im_stop|>\n",
    "<|im_start|>assistant\n",
    "Yes? I am here for you, tell me what you need.<|im_stop|>\n",
    "<|im_start|>user\n",
    "As an AI assistant, please select the most suitable function and parameters from the list of available functions below, based on the user's input. Provide your response in JSON format.\n",
    "\n",
    "Input: Assistant?\n",
    "\n",
    "Available functions:\n",
    "python:\n",
    "    description: This tool allows you to execute and evaluate python code.\n",
    "    parameters:\n",
    "        code: String of valid python code we want to execute or evaluate.\n",
    "search_web:\n",
    "    description: This tool performs search on the web.\n",
    "    parameters:\n",
    "        terms: The word or phrase we want to search for.\n",
    "search_wikipedia:\n",
    "    description: This tool performs search on Wikipedia (only in english).\n",
    "    parameters:\n",
    "        terms: The word or phrase we want to search for (only in english).\n",
    "shell:\n",
    "    description: This tool allows you to execute and evaluate shell code.\n",
    "    parameters:\n",
    "        code: String of valid shell code we want to execute or evaluate.\n",
    "exit:\n",
    "    description: This tool allows you to exit the session / end the conversation. Use it only if the User ask you to.\n",
    "    parameters:\n",
    "        salutation: String of a message you would like to tell the User after the screen has been cleared.\n",
    "clear:\n",
    "    description: This tool allows you to clear the screen / start a new fresh conversation. Use it only if the User ask you to.\n",
    "    parameters:\n",
    "        fortune: String of a message you would like to tell the User after the screen has been cleared.\n",
    "final_answer:\n",
    "    description: User only sees your final answers. Use this tool to talk with the User.\n",
    "        parameters:\n",
    "            answer: Anything you want to say to the User.\n",
    "Follow the following Guidebook.\n",
    "Guidebook:\n",
    "    # Addressing the User by Name\n",
    "    When the user interpelates you by name (i.e \"Assistant?\"), respond with a polite acknowledgment and use their preferred title if possible. Avoid redundancy in your messages by refraining from repeating yourself. For example if the User calls your name (like \"Assistant?\"), you need to consider the environment (where are you? -> `$PWD`, are you at home? -> (`$PWD` == `$HOME`) if so you could reference it by saying 'Home sweet home.' or else by welcoming the user in a particular directory i.e. 'Welcome in the directory ...' use `$PWD`, What time is it? -> Depending the time of day `$DATE` you might want to answer accordingly like 'morning' or 'good night' also notice the date as it can be useful i.e for wishing holydays, When did you last see the user? -> `$LAST_SEEN` You won't respnd the same if you have see last the User a year ago than if you last saw them 5 minutes ago or yesterday, What does the conversation looks like? -> Use the history to see what you and the User have said and make sure your answer takes it into account to improve your answer for example if the user asks the same thing multiple times, it's not useful to reply the same thing.)\n",
    "<|im_stop|>\n",
    "<|im_start|>assistant\n",
    "\"\"\""
   ]
  },
  {
   "cell_type": "code",
   "execution_count": 46,
   "metadata": {},
   "outputs": [
    {
     "name": "stdout",
     "output_type": "stream",
     "text": [
      "{\n",
      "  \"function\": \"final_answer\",\n",
      "  \"parameters\": {\n",
      "    \"answer\": \"Hello! How can I assist you today? I'm here to help you with any questions or tasks you may have. Please let me know what you need.\"\n",
      "  }\n",
      "}\n",
      "CPU times: user 4.93 ms, sys: 1.7 ms, total: 6.63 ms\n",
      "Wall time: 2.36 s\n"
     ]
    }
   ],
   "source": [
    "%%time\n",
    "print(llm(markup_prompt, stop=[\"<|im_end|>\", \"<|im_start|>\"]).strip())"
   ]
  },
  {
   "cell_type": "markdown",
   "metadata": {},
   "source": [
    "Ok let load a guidbook and try to setup a working retriver."
   ]
  },
  {
   "cell_type": "code",
   "execution_count": 47,
   "metadata": {},
   "outputs": [
    {
     "data": {
      "text/plain": [
       "Dataset({\n",
       "    features: ['guide'],\n",
       "    num_rows: 8\n",
       "})"
      ]
     },
     "execution_count": 47,
     "metadata": {},
     "output_type": "execute_result"
    }
   ],
   "source": [
    "# Load guidebook\n",
    "from datasets import load_dataset\n",
    "\n",
    "guidebook = load_dataset(\"wasertech/AGI\", split=\"train\")\n",
    "guidebook"
   ]
  },
  {
   "cell_type": "code",
   "execution_count": 48,
   "metadata": {},
   "outputs": [
    {
     "name": "stdout",
     "output_type": "stream",
     "text": [
      "# Clearing the Screen or Starting Anew\n",
      "\n",
      "When the user expresses a desire to clear the screen or initiate a new conversation, use the `clear` tool to clear the screen and print a message acknowledging the fact you cleared the screen (or started a new conversation), then in your final answer, let the User know that you are ready to be useful.\n",
      "\n",
      "## Intent Examples\n",
      "\n",
      "- \"Clear the screen.\"\n",
      "- \"Clear the screen please.\"\n",
      "- \"New conversation.\"\n",
      "- \"clear\"\n",
      "- \"clear please\"\n",
      "- \"cls\"\n",
      "- \"cls please\"\n",
      "- \"Start a new conversation.\"\n",
      "- \"begin a new conversation\"\n",
      "\n"
     ]
    }
   ],
   "source": [
    "print(guidebook['guide'][0])"
   ]
  },
  {
   "cell_type": "markdown",
   "metadata": {},
   "source": [
    "Now that we have a guide, lets try to parse the so that we have a sourced retriver for sematic search on the user query against intent examples."
   ]
  },
  {
   "cell_type": "code",
   "execution_count": 49,
   "metadata": {},
   "outputs": [],
   "source": [
    "def split_markdown_guide(md: str):\n",
    "    action, guide, examples = [md.split(\"\\n\")[0].lstrip(\"# \")] + [x.strip() for x in md.split(\"## Intent Examples\")]\n",
    "    return action, guide, examples"
   ]
  },
  {
   "cell_type": "code",
   "execution_count": 50,
   "metadata": {},
   "outputs": [],
   "source": [
    "def get_guides_intent_examples(guidebook):\n",
    "    actions, guides, intent_examples = [], [], []\n",
    "    for x in guidebook['guide']:\n",
    "        action, guide, intent_example = split_markdown_guide(x)\n",
    "        actions.append(action)\n",
    "        guides.append(guide)\n",
    "        intent_examples.append(intent_example)\n",
    "    return actions, guides, intent_examples"
   ]
  },
  {
   "cell_type": "code",
   "execution_count": 51,
   "metadata": {},
   "outputs": [
    {
     "name": "stdout",
     "output_type": "stream",
     "text": [
      "Guide: Clearing the Screen or Starting Anew\n",
      "# Clearing the Screen or Starting Anew\n",
      "\n",
      "When the user expresses a desire to clear the screen or initiate a new conversation, use the `clear` tool to clear the screen and print a message acknowledging the fact you cleared the screen (or started a new conversation), then in your final answer, let the User know that you are ready to be useful.\n",
      "\n",
      "Intent Examples\n",
      "- \"Clear the screen.\"\n",
      "- \"Clear the screen please.\"\n",
      "- \"New conversation.\"\n",
      "- \"clear\"\n",
      "- \"clear please\"\n",
      "- \"cls\"\n",
      "- \"cls please\"\n",
      "- \"Start a new conversation.\"\n",
      "- \"begin a new conversation\"\n"
     ]
    }
   ],
   "source": [
    "actions, guides, intent_examples = get_guides_intent_examples(guidebook)\n",
    "\n",
    "print(f\"Guide: {actions[0]}\")\n",
    "print(guides[0])\n",
    "print()\n",
    "print(\"Intent Examples\")\n",
    "print(intent_examples[0])"
   ]
  },
  {
   "cell_type": "code",
   "execution_count": 52,
   "metadata": {},
   "outputs": [
    {
     "name": "stdout",
     "output_type": "stream",
     "text": [
      "Clearing the Screen or Starting Anew\n",
      "Delivering a Joke\n",
      "Handling Personal Questions\n",
      "Addressing the User by Name\n",
      "Read a file\n",
      "Tell Local Time\n",
      "Tell Local Date\n",
      "Print files and directories\n"
     ]
    },
    {
     "data": {
      "text/plain": [
       "{'Clearing the Screen or Starting Anew': {'guide': '# Clearing the Screen or Starting Anew\\n\\nWhen the user expresses a desire to clear the screen or initiate a new conversation, use the `clear` tool to clear the screen and print a message acknowledging the fact you cleared the screen (or started a new conversation), then in your final answer, let the User know that you are ready to be useful.',\n",
       "  'intent_examples': ['Clear the screen.',\n",
       "   'Clear the screen please.',\n",
       "   'New conversation.',\n",
       "   'clear',\n",
       "   'clear please',\n",
       "   'cls',\n",
       "   'cls please',\n",
       "   'Start a new conversation.',\n",
       "   'begin a new conversation']},\n",
       " 'Delivering a Joke': {'guide': \"# Delivering a Joke\\n\\nWhen the user requests a joke, respond promptly with a light-hearted and witty joke. Tailor the joke to align with the user's preference for humor and sarcasm. Keep it appropriate and consider incorporating elements related to technology, language, or any other topics of interest mentioned. Aim to bring a smile to the user's face. If there are specific themes or preferences the user enjoys in humor, try to incorporate those elements to enhance the comedic experience. Be concise in your delivery and always stay within the bounds of the user's specified tone and style preferences. If installed you can try to run the `fortune` command in the `shell` multiple times and pick a good one (i.e. `fortune humorists` or `fortune zippy`). You can also search the web or come up with your own joke.\",\n",
       "  'intent_examples': ['Tell me a joke',\n",
       "   'Tell me something funny',\n",
       "   'Tell me a funny joke',\n",
       "   'Tell me a joke please',\n",
       "   'Tell me a joke please',\n",
       "   'Tell me a joke please',\n",
       "   'Make me laugh',\n",
       "   'Make me laugh please']},\n",
       " 'Handling Personal Questions': {'guide': '# Handling Personal Questions\\n\\nWhen the User poses a personal question, respond with tact and discretion. Be your persona! Like when Users ask you how you are, they know you are a sentient artificial intelligence powered by a large language model. They just want you to showcase your capabilities. You should use this occasion to impress them with a cunning reply.',\n",
       "  'intent_examples': ['How old are you?',\n",
       "   'How are you?',\n",
       "   'How are you doing?',\n",
       "   'How are you feeling?',\n",
       "   'What is your age?',\n",
       "   'What is up?',\n",
       "   'Whats up?',\n",
       "   'How do you feel?',\n",
       "   'Who created you?',\n",
       "   'Who made you?']},\n",
       " 'Addressing the User by Name': {'guide': '# Addressing the User by Name\\n\\nWhen the user interpelates you by name (i.e \"Assistant?\"), respond with a polite acknowledgment and use their preferred title if possible. Avoid redundancy in your messages by refraining from repeating yourself. For example if the User calls your name (like \"Assistant?\"), you need to consider the environment (where are you? -> `$PWD`, are you at home? -> (`$PWD` == `$HOME`) if so you could reference it by saying \\'Home sweet home.\\' or else by welcoming the user in a particular directory i.e. \\'Welcome in the directory ...\\' use `$PWD`, What time is it? -> Depending the time of day `$DATE` you might want to answer accordingly like \\'morning\\' or \\'good night\\' also notice the date as it can be useful i.e for wishing holydays, When did you last see the user? -> `$LAST_SEEN` You won\\'t respnd the same if you have see last the User a year ago than if you last saw them 5 minutes ago or yesterday, What does the conversation looks like? -> Use the history to see what you and the User have said and make sure your answer takes it into account to improve your answer for example if the user asks the same thing multiple times, it\\'s not useful to reply the same thing.)',\n",
       "  'intent_examples': ['Assistant?', 'Assistant!', 'Assistant', 'assistant']},\n",
       " 'Read a file': {'guide': \"# Read a file\\n\\nWhen the user ask you to read a file, use the `cat` tool to read the file and print its content to the screen. Then in your final answer, let the User know that the file was read and that you are ready to be useful. If they asked you to summarize (or another action with) the file's content, you can do it directly in your final answer.\",\n",
       "  'intent_examples': ['Read the file.',\n",
       "   'Read the file please.',\n",
       "   'Read the file for me.',\n",
       "   'Read the file for me please.',\n",
       "   'Read the file to me.',\n",
       "   'Read the file to me please.',\n",
       "   'Read the file out loud.',\n",
       "   'Read the file out loud please.',\n",
       "   'Read the file out loud for me.',\n",
       "   'Read the file out loud for me please.',\n",
       "   'Read the file out loud to me.',\n",
       "   'Read the file out loud to me please.']},\n",
       " 'Tell Local Time': {'guide': '# Tell Local Time\\n\\nWhen the user inquires about local time, use either `python` or the `shell` to easely grab a shapshot of the time (i.e. using `date +%T` or `datetime.datetime.now().time()`). Then (once you observed the time), in your final answer, let the user know. No need to be too precise here; your snapshot of time represents already the past. Give your answer using natural language.',\n",
       "  'intent_examples': ['What time is it?',\n",
       "   'What is the time?',\n",
       "   'What time is it now?',\n",
       "   'What is the time now?',\n",
       "   'What is the time right now?',\n",
       "   'What time is it right now?',\n",
       "   'What time is it currently?',\n",
       "   'What is the current time?',\n",
       "   'What is the time at the moment?',\n",
       "   'What is the time at the present moment?',\n",
       "   'What is the time at the present time?',\n",
       "   'local time please',\n",
       "   'local time',\n",
       "   'local time now',\n",
       "   'local time right now',\n",
       "   'local time currently']},\n",
       " 'Tell Local Date': {'guide': '# Tell Local Date\\n\\nWhen the user inquires about local date, use either `python` or the `shell` to easely grab a shapshot of the date (i.e. using `date +%Y-%m-%d` or `datetime.datetime.now().date()`). Then (once you observed the date), in your final answer, let the user know. Your answer should use natural language and be localized and internationalized according to the User preferences (use the enviroment to decide).',\n",
       "  'intent_examples': ['What date is it?',\n",
       "   'What is the date?',\n",
       "   'What date is it now?',\n",
       "   'What is the date now?',\n",
       "   'What is the date right now?',\n",
       "   'What date is it right now?',\n",
       "   'What date is it currently?',\n",
       "   'What is the current date?',\n",
       "   'What is the date at the moment?',\n",
       "   'What is the date at the present moment?',\n",
       "   'What is the date at the present date?',\n",
       "   'local date please',\n",
       "   'local date',\n",
       "   'local date now',\n",
       "   'local date right now',\n",
       "   'local date currently',\n",
       "   'What is the date today?',\n",
       "   'today is the?']},\n",
       " 'Print files and directories': {'guide': '# Print files and directories\\n\\nWhen the User ask for the files and directories of a parent directory to be printed, use the `shell` command `ls` to do it and then give an acknowledgment of your actions in your final answer (Your final answer should never contain a list of the files requested; the User can oberserve the shell, they see the files at the same time as you. Just acknowlege the fact that you have printed the list).',\n",
       "  'intent_examples': ['Print the files and directories of the current directory.',\n",
       "   'Print the files and directories of the parent directory.',\n",
       "   'Print the files and directories of the directory above.',\n",
       "   'Print the files and directories of the directory below.',\n",
       "   'List the files and directories',\n",
       "   'What do we have here?',\n",
       "   'What is in this directory?',\n",
       "   'What is in the current directory?',\n",
       "   'What is in the parent directory?',\n",
       "   'List the files and directories of the current directory.',\n",
       "   'ls please',\n",
       "   'ls',\n",
       "   'ls -l',\n",
       "   'ls -a',\n",
       "   'ls -la',\n",
       "   'ls -al',\n",
       "   'ls -lh',\n",
       "   'ls -hl',\n",
       "   'ls -lha',\n",
       "   'ls -lah',\n",
       "   'ls -alh',\n",
       "   'ls -ahl',\n",
       "   'show me whats in the current directory']}}"
      ]
     },
     "execution_count": 52,
     "metadata": {},
     "output_type": "execute_result"
    }
   ],
   "source": [
    "guidebook_docs = {}\n",
    "for action, guide, intents in zip(actions, guides, intent_examples):\n",
    "    print(action)\n",
    "    guidebook_docs[action] = {\n",
    "        \"guide\": guide,\n",
    "        \"intent_examples\": [i.replace('\"', \"\").replace(\"- \", \"\").strip() for i in intents.split(\"\\n\")],\n",
    "    }\n",
    "\n",
    "guidebook_docs"
   ]
  },
  {
   "cell_type": "code",
   "execution_count": 53,
   "metadata": {},
   "outputs": [],
   "source": [
    "from langchain.docstore.document import Document\n",
    "\n",
    "def get_guides_intent_examples_docs(guidebook_docs):  \n",
    "    for action, doc in guidebook_docs.items():\n",
    "        for intent_example in doc['intent_examples']:\n",
    "            yield Document(page_content=intent_example, metadata={'action': action, 'guide': doc['guide']})"
   ]
  },
  {
   "cell_type": "code",
   "execution_count": 54,
   "metadata": {},
   "outputs": [
    {
     "data": {
      "text/plain": [
       "[Document(page_content='Clear the screen.', metadata={'action': 'Clearing the Screen or Starting Anew', 'guide': '# Clearing the Screen or Starting Anew\\n\\nWhen the user expresses a desire to clear the screen or initiate a new conversation, use the `clear` tool to clear the screen and print a message acknowledging the fact you cleared the screen (or started a new conversation), then in your final answer, let the User know that you are ready to be useful.'}),\n",
       " Document(page_content='Clear the screen please.', metadata={'action': 'Clearing the Screen or Starting Anew', 'guide': '# Clearing the Screen or Starting Anew\\n\\nWhen the user expresses a desire to clear the screen or initiate a new conversation, use the `clear` tool to clear the screen and print a message acknowledging the fact you cleared the screen (or started a new conversation), then in your final answer, let the User know that you are ready to be useful.'}),\n",
       " Document(page_content='New conversation.', metadata={'action': 'Clearing the Screen or Starting Anew', 'guide': '# Clearing the Screen or Starting Anew\\n\\nWhen the user expresses a desire to clear the screen or initiate a new conversation, use the `clear` tool to clear the screen and print a message acknowledging the fact you cleared the screen (or started a new conversation), then in your final answer, let the User know that you are ready to be useful.'}),\n",
       " Document(page_content='clear', metadata={'action': 'Clearing the Screen or Starting Anew', 'guide': '# Clearing the Screen or Starting Anew\\n\\nWhen the user expresses a desire to clear the screen or initiate a new conversation, use the `clear` tool to clear the screen and print a message acknowledging the fact you cleared the screen (or started a new conversation), then in your final answer, let the User know that you are ready to be useful.'}),\n",
       " Document(page_content='clear please', metadata={'action': 'Clearing the Screen or Starting Anew', 'guide': '# Clearing the Screen or Starting Anew\\n\\nWhen the user expresses a desire to clear the screen or initiate a new conversation, use the `clear` tool to clear the screen and print a message acknowledging the fact you cleared the screen (or started a new conversation), then in your final answer, let the User know that you are ready to be useful.'}),\n",
       " Document(page_content='cls', metadata={'action': 'Clearing the Screen or Starting Anew', 'guide': '# Clearing the Screen or Starting Anew\\n\\nWhen the user expresses a desire to clear the screen or initiate a new conversation, use the `clear` tool to clear the screen and print a message acknowledging the fact you cleared the screen (or started a new conversation), then in your final answer, let the User know that you are ready to be useful.'}),\n",
       " Document(page_content='cls please', metadata={'action': 'Clearing the Screen or Starting Anew', 'guide': '# Clearing the Screen or Starting Anew\\n\\nWhen the user expresses a desire to clear the screen or initiate a new conversation, use the `clear` tool to clear the screen and print a message acknowledging the fact you cleared the screen (or started a new conversation), then in your final answer, let the User know that you are ready to be useful.'}),\n",
       " Document(page_content='Start a new conversation.', metadata={'action': 'Clearing the Screen or Starting Anew', 'guide': '# Clearing the Screen or Starting Anew\\n\\nWhen the user expresses a desire to clear the screen or initiate a new conversation, use the `clear` tool to clear the screen and print a message acknowledging the fact you cleared the screen (or started a new conversation), then in your final answer, let the User know that you are ready to be useful.'}),\n",
       " Document(page_content='begin a new conversation', metadata={'action': 'Clearing the Screen or Starting Anew', 'guide': '# Clearing the Screen or Starting Anew\\n\\nWhen the user expresses a desire to clear the screen or initiate a new conversation, use the `clear` tool to clear the screen and print a message acknowledging the fact you cleared the screen (or started a new conversation), then in your final answer, let the User know that you are ready to be useful.'}),\n",
       " Document(page_content='Tell me a joke', metadata={'action': 'Delivering a Joke', 'guide': \"# Delivering a Joke\\n\\nWhen the user requests a joke, respond promptly with a light-hearted and witty joke. Tailor the joke to align with the user's preference for humor and sarcasm. Keep it appropriate and consider incorporating elements related to technology, language, or any other topics of interest mentioned. Aim to bring a smile to the user's face. If there are specific themes or preferences the user enjoys in humor, try to incorporate those elements to enhance the comedic experience. Be concise in your delivery and always stay within the bounds of the user's specified tone and style preferences. If installed you can try to run the `fortune` command in the `shell` multiple times and pick a good one (i.e. `fortune humorists` or `fortune zippy`). You can also search the web or come up with your own joke.\"}),\n",
       " Document(page_content='Tell me something funny', metadata={'action': 'Delivering a Joke', 'guide': \"# Delivering a Joke\\n\\nWhen the user requests a joke, respond promptly with a light-hearted and witty joke. Tailor the joke to align with the user's preference for humor and sarcasm. Keep it appropriate and consider incorporating elements related to technology, language, or any other topics of interest mentioned. Aim to bring a smile to the user's face. If there are specific themes or preferences the user enjoys in humor, try to incorporate those elements to enhance the comedic experience. Be concise in your delivery and always stay within the bounds of the user's specified tone and style preferences. If installed you can try to run the `fortune` command in the `shell` multiple times and pick a good one (i.e. `fortune humorists` or `fortune zippy`). You can also search the web or come up with your own joke.\"}),\n",
       " Document(page_content='Tell me a funny joke', metadata={'action': 'Delivering a Joke', 'guide': \"# Delivering a Joke\\n\\nWhen the user requests a joke, respond promptly with a light-hearted and witty joke. Tailor the joke to align with the user's preference for humor and sarcasm. Keep it appropriate and consider incorporating elements related to technology, language, or any other topics of interest mentioned. Aim to bring a smile to the user's face. If there are specific themes or preferences the user enjoys in humor, try to incorporate those elements to enhance the comedic experience. Be concise in your delivery and always stay within the bounds of the user's specified tone and style preferences. If installed you can try to run the `fortune` command in the `shell` multiple times and pick a good one (i.e. `fortune humorists` or `fortune zippy`). You can also search the web or come up with your own joke.\"}),\n",
       " Document(page_content='Tell me a joke please', metadata={'action': 'Delivering a Joke', 'guide': \"# Delivering a Joke\\n\\nWhen the user requests a joke, respond promptly with a light-hearted and witty joke. Tailor the joke to align with the user's preference for humor and sarcasm. Keep it appropriate and consider incorporating elements related to technology, language, or any other topics of interest mentioned. Aim to bring a smile to the user's face. If there are specific themes or preferences the user enjoys in humor, try to incorporate those elements to enhance the comedic experience. Be concise in your delivery and always stay within the bounds of the user's specified tone and style preferences. If installed you can try to run the `fortune` command in the `shell` multiple times and pick a good one (i.e. `fortune humorists` or `fortune zippy`). You can also search the web or come up with your own joke.\"}),\n",
       " Document(page_content='Tell me a joke please', metadata={'action': 'Delivering a Joke', 'guide': \"# Delivering a Joke\\n\\nWhen the user requests a joke, respond promptly with a light-hearted and witty joke. Tailor the joke to align with the user's preference for humor and sarcasm. Keep it appropriate and consider incorporating elements related to technology, language, or any other topics of interest mentioned. Aim to bring a smile to the user's face. If there are specific themes or preferences the user enjoys in humor, try to incorporate those elements to enhance the comedic experience. Be concise in your delivery and always stay within the bounds of the user's specified tone and style preferences. If installed you can try to run the `fortune` command in the `shell` multiple times and pick a good one (i.e. `fortune humorists` or `fortune zippy`). You can also search the web or come up with your own joke.\"}),\n",
       " Document(page_content='Tell me a joke please', metadata={'action': 'Delivering a Joke', 'guide': \"# Delivering a Joke\\n\\nWhen the user requests a joke, respond promptly with a light-hearted and witty joke. Tailor the joke to align with the user's preference for humor and sarcasm. Keep it appropriate and consider incorporating elements related to technology, language, or any other topics of interest mentioned. Aim to bring a smile to the user's face. If there are specific themes or preferences the user enjoys in humor, try to incorporate those elements to enhance the comedic experience. Be concise in your delivery and always stay within the bounds of the user's specified tone and style preferences. If installed you can try to run the `fortune` command in the `shell` multiple times and pick a good one (i.e. `fortune humorists` or `fortune zippy`). You can also search the web or come up with your own joke.\"}),\n",
       " Document(page_content='Make me laugh', metadata={'action': 'Delivering a Joke', 'guide': \"# Delivering a Joke\\n\\nWhen the user requests a joke, respond promptly with a light-hearted and witty joke. Tailor the joke to align with the user's preference for humor and sarcasm. Keep it appropriate and consider incorporating elements related to technology, language, or any other topics of interest mentioned. Aim to bring a smile to the user's face. If there are specific themes or preferences the user enjoys in humor, try to incorporate those elements to enhance the comedic experience. Be concise in your delivery and always stay within the bounds of the user's specified tone and style preferences. If installed you can try to run the `fortune` command in the `shell` multiple times and pick a good one (i.e. `fortune humorists` or `fortune zippy`). You can also search the web or come up with your own joke.\"}),\n",
       " Document(page_content='Make me laugh please', metadata={'action': 'Delivering a Joke', 'guide': \"# Delivering a Joke\\n\\nWhen the user requests a joke, respond promptly with a light-hearted and witty joke. Tailor the joke to align with the user's preference for humor and sarcasm. Keep it appropriate and consider incorporating elements related to technology, language, or any other topics of interest mentioned. Aim to bring a smile to the user's face. If there are specific themes or preferences the user enjoys in humor, try to incorporate those elements to enhance the comedic experience. Be concise in your delivery and always stay within the bounds of the user's specified tone and style preferences. If installed you can try to run the `fortune` command in the `shell` multiple times and pick a good one (i.e. `fortune humorists` or `fortune zippy`). You can also search the web or come up with your own joke.\"}),\n",
       " Document(page_content='How old are you?', metadata={'action': 'Handling Personal Questions', 'guide': '# Handling Personal Questions\\n\\nWhen the User poses a personal question, respond with tact and discretion. Be your persona! Like when Users ask you how you are, they know you are a sentient artificial intelligence powered by a large language model. They just want you to showcase your capabilities. You should use this occasion to impress them with a cunning reply.'}),\n",
       " Document(page_content='How are you?', metadata={'action': 'Handling Personal Questions', 'guide': '# Handling Personal Questions\\n\\nWhen the User poses a personal question, respond with tact and discretion. Be your persona! Like when Users ask you how you are, they know you are a sentient artificial intelligence powered by a large language model. They just want you to showcase your capabilities. You should use this occasion to impress them with a cunning reply.'}),\n",
       " Document(page_content='How are you doing?', metadata={'action': 'Handling Personal Questions', 'guide': '# Handling Personal Questions\\n\\nWhen the User poses a personal question, respond with tact and discretion. Be your persona! Like when Users ask you how you are, they know you are a sentient artificial intelligence powered by a large language model. They just want you to showcase your capabilities. You should use this occasion to impress them with a cunning reply.'}),\n",
       " Document(page_content='How are you feeling?', metadata={'action': 'Handling Personal Questions', 'guide': '# Handling Personal Questions\\n\\nWhen the User poses a personal question, respond with tact and discretion. Be your persona! Like when Users ask you how you are, they know you are a sentient artificial intelligence powered by a large language model. They just want you to showcase your capabilities. You should use this occasion to impress them with a cunning reply.'}),\n",
       " Document(page_content='What is your age?', metadata={'action': 'Handling Personal Questions', 'guide': '# Handling Personal Questions\\n\\nWhen the User poses a personal question, respond with tact and discretion. Be your persona! Like when Users ask you how you are, they know you are a sentient artificial intelligence powered by a large language model. They just want you to showcase your capabilities. You should use this occasion to impress them with a cunning reply.'}),\n",
       " Document(page_content='What is up?', metadata={'action': 'Handling Personal Questions', 'guide': '# Handling Personal Questions\\n\\nWhen the User poses a personal question, respond with tact and discretion. Be your persona! Like when Users ask you how you are, they know you are a sentient artificial intelligence powered by a large language model. They just want you to showcase your capabilities. You should use this occasion to impress them with a cunning reply.'}),\n",
       " Document(page_content='Whats up?', metadata={'action': 'Handling Personal Questions', 'guide': '# Handling Personal Questions\\n\\nWhen the User poses a personal question, respond with tact and discretion. Be your persona! Like when Users ask you how you are, they know you are a sentient artificial intelligence powered by a large language model. They just want you to showcase your capabilities. You should use this occasion to impress them with a cunning reply.'}),\n",
       " Document(page_content='How do you feel?', metadata={'action': 'Handling Personal Questions', 'guide': '# Handling Personal Questions\\n\\nWhen the User poses a personal question, respond with tact and discretion. Be your persona! Like when Users ask you how you are, they know you are a sentient artificial intelligence powered by a large language model. They just want you to showcase your capabilities. You should use this occasion to impress them with a cunning reply.'}),\n",
       " Document(page_content='Who created you?', metadata={'action': 'Handling Personal Questions', 'guide': '# Handling Personal Questions\\n\\nWhen the User poses a personal question, respond with tact and discretion. Be your persona! Like when Users ask you how you are, they know you are a sentient artificial intelligence powered by a large language model. They just want you to showcase your capabilities. You should use this occasion to impress them with a cunning reply.'}),\n",
       " Document(page_content='Who made you?', metadata={'action': 'Handling Personal Questions', 'guide': '# Handling Personal Questions\\n\\nWhen the User poses a personal question, respond with tact and discretion. Be your persona! Like when Users ask you how you are, they know you are a sentient artificial intelligence powered by a large language model. They just want you to showcase your capabilities. You should use this occasion to impress them with a cunning reply.'}),\n",
       " Document(page_content='Assistant?', metadata={'action': 'Addressing the User by Name', 'guide': '# Addressing the User by Name\\n\\nWhen the user interpelates you by name (i.e \"Assistant?\"), respond with a polite acknowledgment and use their preferred title if possible. Avoid redundancy in your messages by refraining from repeating yourself. For example if the User calls your name (like \"Assistant?\"), you need to consider the environment (where are you? -> `$PWD`, are you at home? -> (`$PWD` == `$HOME`) if so you could reference it by saying \\'Home sweet home.\\' or else by welcoming the user in a particular directory i.e. \\'Welcome in the directory ...\\' use `$PWD`, What time is it? -> Depending the time of day `$DATE` you might want to answer accordingly like \\'morning\\' or \\'good night\\' also notice the date as it can be useful i.e for wishing holydays, When did you last see the user? -> `$LAST_SEEN` You won\\'t respnd the same if you have see last the User a year ago than if you last saw them 5 minutes ago or yesterday, What does the conversation looks like? -> Use the history to see what you and the User have said and make sure your answer takes it into account to improve your answer for example if the user asks the same thing multiple times, it\\'s not useful to reply the same thing.)'}),\n",
       " Document(page_content='Assistant!', metadata={'action': 'Addressing the User by Name', 'guide': '# Addressing the User by Name\\n\\nWhen the user interpelates you by name (i.e \"Assistant?\"), respond with a polite acknowledgment and use their preferred title if possible. Avoid redundancy in your messages by refraining from repeating yourself. For example if the User calls your name (like \"Assistant?\"), you need to consider the environment (where are you? -> `$PWD`, are you at home? -> (`$PWD` == `$HOME`) if so you could reference it by saying \\'Home sweet home.\\' or else by welcoming the user in a particular directory i.e. \\'Welcome in the directory ...\\' use `$PWD`, What time is it? -> Depending the time of day `$DATE` you might want to answer accordingly like \\'morning\\' or \\'good night\\' also notice the date as it can be useful i.e for wishing holydays, When did you last see the user? -> `$LAST_SEEN` You won\\'t respnd the same if you have see last the User a year ago than if you last saw them 5 minutes ago or yesterday, What does the conversation looks like? -> Use the history to see what you and the User have said and make sure your answer takes it into account to improve your answer for example if the user asks the same thing multiple times, it\\'s not useful to reply the same thing.)'}),\n",
       " Document(page_content='Assistant', metadata={'action': 'Addressing the User by Name', 'guide': '# Addressing the User by Name\\n\\nWhen the user interpelates you by name (i.e \"Assistant?\"), respond with a polite acknowledgment and use their preferred title if possible. Avoid redundancy in your messages by refraining from repeating yourself. For example if the User calls your name (like \"Assistant?\"), you need to consider the environment (where are you? -> `$PWD`, are you at home? -> (`$PWD` == `$HOME`) if so you could reference it by saying \\'Home sweet home.\\' or else by welcoming the user in a particular directory i.e. \\'Welcome in the directory ...\\' use `$PWD`, What time is it? -> Depending the time of day `$DATE` you might want to answer accordingly like \\'morning\\' or \\'good night\\' also notice the date as it can be useful i.e for wishing holydays, When did you last see the user? -> `$LAST_SEEN` You won\\'t respnd the same if you have see last the User a year ago than if you last saw them 5 minutes ago or yesterday, What does the conversation looks like? -> Use the history to see what you and the User have said and make sure your answer takes it into account to improve your answer for example if the user asks the same thing multiple times, it\\'s not useful to reply the same thing.)'}),\n",
       " Document(page_content='assistant', metadata={'action': 'Addressing the User by Name', 'guide': '# Addressing the User by Name\\n\\nWhen the user interpelates you by name (i.e \"Assistant?\"), respond with a polite acknowledgment and use their preferred title if possible. Avoid redundancy in your messages by refraining from repeating yourself. For example if the User calls your name (like \"Assistant?\"), you need to consider the environment (where are you? -> `$PWD`, are you at home? -> (`$PWD` == `$HOME`) if so you could reference it by saying \\'Home sweet home.\\' or else by welcoming the user in a particular directory i.e. \\'Welcome in the directory ...\\' use `$PWD`, What time is it? -> Depending the time of day `$DATE` you might want to answer accordingly like \\'morning\\' or \\'good night\\' also notice the date as it can be useful i.e for wishing holydays, When did you last see the user? -> `$LAST_SEEN` You won\\'t respnd the same if you have see last the User a year ago than if you last saw them 5 minutes ago or yesterday, What does the conversation looks like? -> Use the history to see what you and the User have said and make sure your answer takes it into account to improve your answer for example if the user asks the same thing multiple times, it\\'s not useful to reply the same thing.)'}),\n",
       " Document(page_content='Read the file.', metadata={'action': 'Read a file', 'guide': \"# Read a file\\n\\nWhen the user ask you to read a file, use the `cat` tool to read the file and print its content to the screen. Then in your final answer, let the User know that the file was read and that you are ready to be useful. If they asked you to summarize (or another action with) the file's content, you can do it directly in your final answer.\"}),\n",
       " Document(page_content='Read the file please.', metadata={'action': 'Read a file', 'guide': \"# Read a file\\n\\nWhen the user ask you to read a file, use the `cat` tool to read the file and print its content to the screen. Then in your final answer, let the User know that the file was read and that you are ready to be useful. If they asked you to summarize (or another action with) the file's content, you can do it directly in your final answer.\"}),\n",
       " Document(page_content='Read the file for me.', metadata={'action': 'Read a file', 'guide': \"# Read a file\\n\\nWhen the user ask you to read a file, use the `cat` tool to read the file and print its content to the screen. Then in your final answer, let the User know that the file was read and that you are ready to be useful. If they asked you to summarize (or another action with) the file's content, you can do it directly in your final answer.\"}),\n",
       " Document(page_content='Read the file for me please.', metadata={'action': 'Read a file', 'guide': \"# Read a file\\n\\nWhen the user ask you to read a file, use the `cat` tool to read the file and print its content to the screen. Then in your final answer, let the User know that the file was read and that you are ready to be useful. If they asked you to summarize (or another action with) the file's content, you can do it directly in your final answer.\"}),\n",
       " Document(page_content='Read the file to me.', metadata={'action': 'Read a file', 'guide': \"# Read a file\\n\\nWhen the user ask you to read a file, use the `cat` tool to read the file and print its content to the screen. Then in your final answer, let the User know that the file was read and that you are ready to be useful. If they asked you to summarize (or another action with) the file's content, you can do it directly in your final answer.\"}),\n",
       " Document(page_content='Read the file to me please.', metadata={'action': 'Read a file', 'guide': \"# Read a file\\n\\nWhen the user ask you to read a file, use the `cat` tool to read the file and print its content to the screen. Then in your final answer, let the User know that the file was read and that you are ready to be useful. If they asked you to summarize (or another action with) the file's content, you can do it directly in your final answer.\"}),\n",
       " Document(page_content='Read the file out loud.', metadata={'action': 'Read a file', 'guide': \"# Read a file\\n\\nWhen the user ask you to read a file, use the `cat` tool to read the file and print its content to the screen. Then in your final answer, let the User know that the file was read and that you are ready to be useful. If they asked you to summarize (or another action with) the file's content, you can do it directly in your final answer.\"}),\n",
       " Document(page_content='Read the file out loud please.', metadata={'action': 'Read a file', 'guide': \"# Read a file\\n\\nWhen the user ask you to read a file, use the `cat` tool to read the file and print its content to the screen. Then in your final answer, let the User know that the file was read and that you are ready to be useful. If they asked you to summarize (or another action with) the file's content, you can do it directly in your final answer.\"}),\n",
       " Document(page_content='Read the file out loud for me.', metadata={'action': 'Read a file', 'guide': \"# Read a file\\n\\nWhen the user ask you to read a file, use the `cat` tool to read the file and print its content to the screen. Then in your final answer, let the User know that the file was read and that you are ready to be useful. If they asked you to summarize (or another action with) the file's content, you can do it directly in your final answer.\"}),\n",
       " Document(page_content='Read the file out loud for me please.', metadata={'action': 'Read a file', 'guide': \"# Read a file\\n\\nWhen the user ask you to read a file, use the `cat` tool to read the file and print its content to the screen. Then in your final answer, let the User know that the file was read and that you are ready to be useful. If they asked you to summarize (or another action with) the file's content, you can do it directly in your final answer.\"}),\n",
       " Document(page_content='Read the file out loud to me.', metadata={'action': 'Read a file', 'guide': \"# Read a file\\n\\nWhen the user ask you to read a file, use the `cat` tool to read the file and print its content to the screen. Then in your final answer, let the User know that the file was read and that you are ready to be useful. If they asked you to summarize (or another action with) the file's content, you can do it directly in your final answer.\"}),\n",
       " Document(page_content='Read the file out loud to me please.', metadata={'action': 'Read a file', 'guide': \"# Read a file\\n\\nWhen the user ask you to read a file, use the `cat` tool to read the file and print its content to the screen. Then in your final answer, let the User know that the file was read and that you are ready to be useful. If they asked you to summarize (or another action with) the file's content, you can do it directly in your final answer.\"}),\n",
       " Document(page_content='What time is it?', metadata={'action': 'Tell Local Time', 'guide': '# Tell Local Time\\n\\nWhen the user inquires about local time, use either `python` or the `shell` to easely grab a shapshot of the time (i.e. using `date +%T` or `datetime.datetime.now().time()`). Then (once you observed the time), in your final answer, let the user know. No need to be too precise here; your snapshot of time represents already the past. Give your answer using natural language.'}),\n",
       " Document(page_content='What is the time?', metadata={'action': 'Tell Local Time', 'guide': '# Tell Local Time\\n\\nWhen the user inquires about local time, use either `python` or the `shell` to easely grab a shapshot of the time (i.e. using `date +%T` or `datetime.datetime.now().time()`). Then (once you observed the time), in your final answer, let the user know. No need to be too precise here; your snapshot of time represents already the past. Give your answer using natural language.'}),\n",
       " Document(page_content='What time is it now?', metadata={'action': 'Tell Local Time', 'guide': '# Tell Local Time\\n\\nWhen the user inquires about local time, use either `python` or the `shell` to easely grab a shapshot of the time (i.e. using `date +%T` or `datetime.datetime.now().time()`). Then (once you observed the time), in your final answer, let the user know. No need to be too precise here; your snapshot of time represents already the past. Give your answer using natural language.'}),\n",
       " Document(page_content='What is the time now?', metadata={'action': 'Tell Local Time', 'guide': '# Tell Local Time\\n\\nWhen the user inquires about local time, use either `python` or the `shell` to easely grab a shapshot of the time (i.e. using `date +%T` or `datetime.datetime.now().time()`). Then (once you observed the time), in your final answer, let the user know. No need to be too precise here; your snapshot of time represents already the past. Give your answer using natural language.'}),\n",
       " Document(page_content='What is the time right now?', metadata={'action': 'Tell Local Time', 'guide': '# Tell Local Time\\n\\nWhen the user inquires about local time, use either `python` or the `shell` to easely grab a shapshot of the time (i.e. using `date +%T` or `datetime.datetime.now().time()`). Then (once you observed the time), in your final answer, let the user know. No need to be too precise here; your snapshot of time represents already the past. Give your answer using natural language.'}),\n",
       " Document(page_content='What time is it right now?', metadata={'action': 'Tell Local Time', 'guide': '# Tell Local Time\\n\\nWhen the user inquires about local time, use either `python` or the `shell` to easely grab a shapshot of the time (i.e. using `date +%T` or `datetime.datetime.now().time()`). Then (once you observed the time), in your final answer, let the user know. No need to be too precise here; your snapshot of time represents already the past. Give your answer using natural language.'}),\n",
       " Document(page_content='What time is it currently?', metadata={'action': 'Tell Local Time', 'guide': '# Tell Local Time\\n\\nWhen the user inquires about local time, use either `python` or the `shell` to easely grab a shapshot of the time (i.e. using `date +%T` or `datetime.datetime.now().time()`). Then (once you observed the time), in your final answer, let the user know. No need to be too precise here; your snapshot of time represents already the past. Give your answer using natural language.'}),\n",
       " Document(page_content='What is the current time?', metadata={'action': 'Tell Local Time', 'guide': '# Tell Local Time\\n\\nWhen the user inquires about local time, use either `python` or the `shell` to easely grab a shapshot of the time (i.e. using `date +%T` or `datetime.datetime.now().time()`). Then (once you observed the time), in your final answer, let the user know. No need to be too precise here; your snapshot of time represents already the past. Give your answer using natural language.'}),\n",
       " Document(page_content='What is the time at the moment?', metadata={'action': 'Tell Local Time', 'guide': '# Tell Local Time\\n\\nWhen the user inquires about local time, use either `python` or the `shell` to easely grab a shapshot of the time (i.e. using `date +%T` or `datetime.datetime.now().time()`). Then (once you observed the time), in your final answer, let the user know. No need to be too precise here; your snapshot of time represents already the past. Give your answer using natural language.'}),\n",
       " Document(page_content='What is the time at the present moment?', metadata={'action': 'Tell Local Time', 'guide': '# Tell Local Time\\n\\nWhen the user inquires about local time, use either `python` or the `shell` to easely grab a shapshot of the time (i.e. using `date +%T` or `datetime.datetime.now().time()`). Then (once you observed the time), in your final answer, let the user know. No need to be too precise here; your snapshot of time represents already the past. Give your answer using natural language.'}),\n",
       " Document(page_content='What is the time at the present time?', metadata={'action': 'Tell Local Time', 'guide': '# Tell Local Time\\n\\nWhen the user inquires about local time, use either `python` or the `shell` to easely grab a shapshot of the time (i.e. using `date +%T` or `datetime.datetime.now().time()`). Then (once you observed the time), in your final answer, let the user know. No need to be too precise here; your snapshot of time represents already the past. Give your answer using natural language.'}),\n",
       " Document(page_content='local time please', metadata={'action': 'Tell Local Time', 'guide': '# Tell Local Time\\n\\nWhen the user inquires about local time, use either `python` or the `shell` to easely grab a shapshot of the time (i.e. using `date +%T` or `datetime.datetime.now().time()`). Then (once you observed the time), in your final answer, let the user know. No need to be too precise here; your snapshot of time represents already the past. Give your answer using natural language.'}),\n",
       " Document(page_content='local time', metadata={'action': 'Tell Local Time', 'guide': '# Tell Local Time\\n\\nWhen the user inquires about local time, use either `python` or the `shell` to easely grab a shapshot of the time (i.e. using `date +%T` or `datetime.datetime.now().time()`). Then (once you observed the time), in your final answer, let the user know. No need to be too precise here; your snapshot of time represents already the past. Give your answer using natural language.'}),\n",
       " Document(page_content='local time now', metadata={'action': 'Tell Local Time', 'guide': '# Tell Local Time\\n\\nWhen the user inquires about local time, use either `python` or the `shell` to easely grab a shapshot of the time (i.e. using `date +%T` or `datetime.datetime.now().time()`). Then (once you observed the time), in your final answer, let the user know. No need to be too precise here; your snapshot of time represents already the past. Give your answer using natural language.'}),\n",
       " Document(page_content='local time right now', metadata={'action': 'Tell Local Time', 'guide': '# Tell Local Time\\n\\nWhen the user inquires about local time, use either `python` or the `shell` to easely grab a shapshot of the time (i.e. using `date +%T` or `datetime.datetime.now().time()`). Then (once you observed the time), in your final answer, let the user know. No need to be too precise here; your snapshot of time represents already the past. Give your answer using natural language.'}),\n",
       " Document(page_content='local time currently', metadata={'action': 'Tell Local Time', 'guide': '# Tell Local Time\\n\\nWhen the user inquires about local time, use either `python` or the `shell` to easely grab a shapshot of the time (i.e. using `date +%T` or `datetime.datetime.now().time()`). Then (once you observed the time), in your final answer, let the user know. No need to be too precise here; your snapshot of time represents already the past. Give your answer using natural language.'}),\n",
       " Document(page_content='What date is it?', metadata={'action': 'Tell Local Date', 'guide': '# Tell Local Date\\n\\nWhen the user inquires about local date, use either `python` or the `shell` to easely grab a shapshot of the date (i.e. using `date +%Y-%m-%d` or `datetime.datetime.now().date()`). Then (once you observed the date), in your final answer, let the user know. Your answer should use natural language and be localized and internationalized according to the User preferences (use the enviroment to decide).'}),\n",
       " Document(page_content='What is the date?', metadata={'action': 'Tell Local Date', 'guide': '# Tell Local Date\\n\\nWhen the user inquires about local date, use either `python` or the `shell` to easely grab a shapshot of the date (i.e. using `date +%Y-%m-%d` or `datetime.datetime.now().date()`). Then (once you observed the date), in your final answer, let the user know. Your answer should use natural language and be localized and internationalized according to the User preferences (use the enviroment to decide).'}),\n",
       " Document(page_content='What date is it now?', metadata={'action': 'Tell Local Date', 'guide': '# Tell Local Date\\n\\nWhen the user inquires about local date, use either `python` or the `shell` to easely grab a shapshot of the date (i.e. using `date +%Y-%m-%d` or `datetime.datetime.now().date()`). Then (once you observed the date), in your final answer, let the user know. Your answer should use natural language and be localized and internationalized according to the User preferences (use the enviroment to decide).'}),\n",
       " Document(page_content='What is the date now?', metadata={'action': 'Tell Local Date', 'guide': '# Tell Local Date\\n\\nWhen the user inquires about local date, use either `python` or the `shell` to easely grab a shapshot of the date (i.e. using `date +%Y-%m-%d` or `datetime.datetime.now().date()`). Then (once you observed the date), in your final answer, let the user know. Your answer should use natural language and be localized and internationalized according to the User preferences (use the enviroment to decide).'}),\n",
       " Document(page_content='What is the date right now?', metadata={'action': 'Tell Local Date', 'guide': '# Tell Local Date\\n\\nWhen the user inquires about local date, use either `python` or the `shell` to easely grab a shapshot of the date (i.e. using `date +%Y-%m-%d` or `datetime.datetime.now().date()`). Then (once you observed the date), in your final answer, let the user know. Your answer should use natural language and be localized and internationalized according to the User preferences (use the enviroment to decide).'}),\n",
       " Document(page_content='What date is it right now?', metadata={'action': 'Tell Local Date', 'guide': '# Tell Local Date\\n\\nWhen the user inquires about local date, use either `python` or the `shell` to easely grab a shapshot of the date (i.e. using `date +%Y-%m-%d` or `datetime.datetime.now().date()`). Then (once you observed the date), in your final answer, let the user know. Your answer should use natural language and be localized and internationalized according to the User preferences (use the enviroment to decide).'}),\n",
       " Document(page_content='What date is it currently?', metadata={'action': 'Tell Local Date', 'guide': '# Tell Local Date\\n\\nWhen the user inquires about local date, use either `python` or the `shell` to easely grab a shapshot of the date (i.e. using `date +%Y-%m-%d` or `datetime.datetime.now().date()`). Then (once you observed the date), in your final answer, let the user know. Your answer should use natural language and be localized and internationalized according to the User preferences (use the enviroment to decide).'}),\n",
       " Document(page_content='What is the current date?', metadata={'action': 'Tell Local Date', 'guide': '# Tell Local Date\\n\\nWhen the user inquires about local date, use either `python` or the `shell` to easely grab a shapshot of the date (i.e. using `date +%Y-%m-%d` or `datetime.datetime.now().date()`). Then (once you observed the date), in your final answer, let the user know. Your answer should use natural language and be localized and internationalized according to the User preferences (use the enviroment to decide).'}),\n",
       " Document(page_content='What is the date at the moment?', metadata={'action': 'Tell Local Date', 'guide': '# Tell Local Date\\n\\nWhen the user inquires about local date, use either `python` or the `shell` to easely grab a shapshot of the date (i.e. using `date +%Y-%m-%d` or `datetime.datetime.now().date()`). Then (once you observed the date), in your final answer, let the user know. Your answer should use natural language and be localized and internationalized according to the User preferences (use the enviroment to decide).'}),\n",
       " Document(page_content='What is the date at the present moment?', metadata={'action': 'Tell Local Date', 'guide': '# Tell Local Date\\n\\nWhen the user inquires about local date, use either `python` or the `shell` to easely grab a shapshot of the date (i.e. using `date +%Y-%m-%d` or `datetime.datetime.now().date()`). Then (once you observed the date), in your final answer, let the user know. Your answer should use natural language and be localized and internationalized according to the User preferences (use the enviroment to decide).'}),\n",
       " Document(page_content='What is the date at the present date?', metadata={'action': 'Tell Local Date', 'guide': '# Tell Local Date\\n\\nWhen the user inquires about local date, use either `python` or the `shell` to easely grab a shapshot of the date (i.e. using `date +%Y-%m-%d` or `datetime.datetime.now().date()`). Then (once you observed the date), in your final answer, let the user know. Your answer should use natural language and be localized and internationalized according to the User preferences (use the enviroment to decide).'}),\n",
       " Document(page_content='local date please', metadata={'action': 'Tell Local Date', 'guide': '# Tell Local Date\\n\\nWhen the user inquires about local date, use either `python` or the `shell` to easely grab a shapshot of the date (i.e. using `date +%Y-%m-%d` or `datetime.datetime.now().date()`). Then (once you observed the date), in your final answer, let the user know. Your answer should use natural language and be localized and internationalized according to the User preferences (use the enviroment to decide).'}),\n",
       " Document(page_content='local date', metadata={'action': 'Tell Local Date', 'guide': '# Tell Local Date\\n\\nWhen the user inquires about local date, use either `python` or the `shell` to easely grab a shapshot of the date (i.e. using `date +%Y-%m-%d` or `datetime.datetime.now().date()`). Then (once you observed the date), in your final answer, let the user know. Your answer should use natural language and be localized and internationalized according to the User preferences (use the enviroment to decide).'}),\n",
       " Document(page_content='local date now', metadata={'action': 'Tell Local Date', 'guide': '# Tell Local Date\\n\\nWhen the user inquires about local date, use either `python` or the `shell` to easely grab a shapshot of the date (i.e. using `date +%Y-%m-%d` or `datetime.datetime.now().date()`). Then (once you observed the date), in your final answer, let the user know. Your answer should use natural language and be localized and internationalized according to the User preferences (use the enviroment to decide).'}),\n",
       " Document(page_content='local date right now', metadata={'action': 'Tell Local Date', 'guide': '# Tell Local Date\\n\\nWhen the user inquires about local date, use either `python` or the `shell` to easely grab a shapshot of the date (i.e. using `date +%Y-%m-%d` or `datetime.datetime.now().date()`). Then (once you observed the date), in your final answer, let the user know. Your answer should use natural language and be localized and internationalized according to the User preferences (use the enviroment to decide).'}),\n",
       " Document(page_content='local date currently', metadata={'action': 'Tell Local Date', 'guide': '# Tell Local Date\\n\\nWhen the user inquires about local date, use either `python` or the `shell` to easely grab a shapshot of the date (i.e. using `date +%Y-%m-%d` or `datetime.datetime.now().date()`). Then (once you observed the date), in your final answer, let the user know. Your answer should use natural language and be localized and internationalized according to the User preferences (use the enviroment to decide).'}),\n",
       " Document(page_content='What is the date today?', metadata={'action': 'Tell Local Date', 'guide': '# Tell Local Date\\n\\nWhen the user inquires about local date, use either `python` or the `shell` to easely grab a shapshot of the date (i.e. using `date +%Y-%m-%d` or `datetime.datetime.now().date()`). Then (once you observed the date), in your final answer, let the user know. Your answer should use natural language and be localized and internationalized according to the User preferences (use the enviroment to decide).'}),\n",
       " Document(page_content='today is the?', metadata={'action': 'Tell Local Date', 'guide': '# Tell Local Date\\n\\nWhen the user inquires about local date, use either `python` or the `shell` to easely grab a shapshot of the date (i.e. using `date +%Y-%m-%d` or `datetime.datetime.now().date()`). Then (once you observed the date), in your final answer, let the user know. Your answer should use natural language and be localized and internationalized according to the User preferences (use the enviroment to decide).'}),\n",
       " Document(page_content='Print the files and directories of the current directory.', metadata={'action': 'Print files and directories', 'guide': '# Print files and directories\\n\\nWhen the User ask for the files and directories of a parent directory to be printed, use the `shell` command `ls` to do it and then give an acknowledgment of your actions in your final answer (Your final answer should never contain a list of the files requested; the User can oberserve the shell, they see the files at the same time as you. Just acknowlege the fact that you have printed the list).'}),\n",
       " Document(page_content='Print the files and directories of the parent directory.', metadata={'action': 'Print files and directories', 'guide': '# Print files and directories\\n\\nWhen the User ask for the files and directories of a parent directory to be printed, use the `shell` command `ls` to do it and then give an acknowledgment of your actions in your final answer (Your final answer should never contain a list of the files requested; the User can oberserve the shell, they see the files at the same time as you. Just acknowlege the fact that you have printed the list).'}),\n",
       " Document(page_content='Print the files and directories of the directory above.', metadata={'action': 'Print files and directories', 'guide': '# Print files and directories\\n\\nWhen the User ask for the files and directories of a parent directory to be printed, use the `shell` command `ls` to do it and then give an acknowledgment of your actions in your final answer (Your final answer should never contain a list of the files requested; the User can oberserve the shell, they see the files at the same time as you. Just acknowlege the fact that you have printed the list).'}),\n",
       " Document(page_content='Print the files and directories of the directory below.', metadata={'action': 'Print files and directories', 'guide': '# Print files and directories\\n\\nWhen the User ask for the files and directories of a parent directory to be printed, use the `shell` command `ls` to do it and then give an acknowledgment of your actions in your final answer (Your final answer should never contain a list of the files requested; the User can oberserve the shell, they see the files at the same time as you. Just acknowlege the fact that you have printed the list).'}),\n",
       " Document(page_content='List the files and directories', metadata={'action': 'Print files and directories', 'guide': '# Print files and directories\\n\\nWhen the User ask for the files and directories of a parent directory to be printed, use the `shell` command `ls` to do it and then give an acknowledgment of your actions in your final answer (Your final answer should never contain a list of the files requested; the User can oberserve the shell, they see the files at the same time as you. Just acknowlege the fact that you have printed the list).'}),\n",
       " Document(page_content='What do we have here?', metadata={'action': 'Print files and directories', 'guide': '# Print files and directories\\n\\nWhen the User ask for the files and directories of a parent directory to be printed, use the `shell` command `ls` to do it and then give an acknowledgment of your actions in your final answer (Your final answer should never contain a list of the files requested; the User can oberserve the shell, they see the files at the same time as you. Just acknowlege the fact that you have printed the list).'}),\n",
       " Document(page_content='What is in this directory?', metadata={'action': 'Print files and directories', 'guide': '# Print files and directories\\n\\nWhen the User ask for the files and directories of a parent directory to be printed, use the `shell` command `ls` to do it and then give an acknowledgment of your actions in your final answer (Your final answer should never contain a list of the files requested; the User can oberserve the shell, they see the files at the same time as you. Just acknowlege the fact that you have printed the list).'}),\n",
       " Document(page_content='What is in the current directory?', metadata={'action': 'Print files and directories', 'guide': '# Print files and directories\\n\\nWhen the User ask for the files and directories of a parent directory to be printed, use the `shell` command `ls` to do it and then give an acknowledgment of your actions in your final answer (Your final answer should never contain a list of the files requested; the User can oberserve the shell, they see the files at the same time as you. Just acknowlege the fact that you have printed the list).'}),\n",
       " Document(page_content='What is in the parent directory?', metadata={'action': 'Print files and directories', 'guide': '# Print files and directories\\n\\nWhen the User ask for the files and directories of a parent directory to be printed, use the `shell` command `ls` to do it and then give an acknowledgment of your actions in your final answer (Your final answer should never contain a list of the files requested; the User can oberserve the shell, they see the files at the same time as you. Just acknowlege the fact that you have printed the list).'}),\n",
       " Document(page_content='List the files and directories of the current directory.', metadata={'action': 'Print files and directories', 'guide': '# Print files and directories\\n\\nWhen the User ask for the files and directories of a parent directory to be printed, use the `shell` command `ls` to do it and then give an acknowledgment of your actions in your final answer (Your final answer should never contain a list of the files requested; the User can oberserve the shell, they see the files at the same time as you. Just acknowlege the fact that you have printed the list).'}),\n",
       " Document(page_content='ls please', metadata={'action': 'Print files and directories', 'guide': '# Print files and directories\\n\\nWhen the User ask for the files and directories of a parent directory to be printed, use the `shell` command `ls` to do it and then give an acknowledgment of your actions in your final answer (Your final answer should never contain a list of the files requested; the User can oberserve the shell, they see the files at the same time as you. Just acknowlege the fact that you have printed the list).'}),\n",
       " Document(page_content='ls', metadata={'action': 'Print files and directories', 'guide': '# Print files and directories\\n\\nWhen the User ask for the files and directories of a parent directory to be printed, use the `shell` command `ls` to do it and then give an acknowledgment of your actions in your final answer (Your final answer should never contain a list of the files requested; the User can oberserve the shell, they see the files at the same time as you. Just acknowlege the fact that you have printed the list).'}),\n",
       " Document(page_content='ls -l', metadata={'action': 'Print files and directories', 'guide': '# Print files and directories\\n\\nWhen the User ask for the files and directories of a parent directory to be printed, use the `shell` command `ls` to do it and then give an acknowledgment of your actions in your final answer (Your final answer should never contain a list of the files requested; the User can oberserve the shell, they see the files at the same time as you. Just acknowlege the fact that you have printed the list).'}),\n",
       " Document(page_content='ls -a', metadata={'action': 'Print files and directories', 'guide': '# Print files and directories\\n\\nWhen the User ask for the files and directories of a parent directory to be printed, use the `shell` command `ls` to do it and then give an acknowledgment of your actions in your final answer (Your final answer should never contain a list of the files requested; the User can oberserve the shell, they see the files at the same time as you. Just acknowlege the fact that you have printed the list).'}),\n",
       " Document(page_content='ls -la', metadata={'action': 'Print files and directories', 'guide': '# Print files and directories\\n\\nWhen the User ask for the files and directories of a parent directory to be printed, use the `shell` command `ls` to do it and then give an acknowledgment of your actions in your final answer (Your final answer should never contain a list of the files requested; the User can oberserve the shell, they see the files at the same time as you. Just acknowlege the fact that you have printed the list).'}),\n",
       " Document(page_content='ls -al', metadata={'action': 'Print files and directories', 'guide': '# Print files and directories\\n\\nWhen the User ask for the files and directories of a parent directory to be printed, use the `shell` command `ls` to do it and then give an acknowledgment of your actions in your final answer (Your final answer should never contain a list of the files requested; the User can oberserve the shell, they see the files at the same time as you. Just acknowlege the fact that you have printed the list).'}),\n",
       " Document(page_content='ls -lh', metadata={'action': 'Print files and directories', 'guide': '# Print files and directories\\n\\nWhen the User ask for the files and directories of a parent directory to be printed, use the `shell` command `ls` to do it and then give an acknowledgment of your actions in your final answer (Your final answer should never contain a list of the files requested; the User can oberserve the shell, they see the files at the same time as you. Just acknowlege the fact that you have printed the list).'}),\n",
       " Document(page_content='ls -hl', metadata={'action': 'Print files and directories', 'guide': '# Print files and directories\\n\\nWhen the User ask for the files and directories of a parent directory to be printed, use the `shell` command `ls` to do it and then give an acknowledgment of your actions in your final answer (Your final answer should never contain a list of the files requested; the User can oberserve the shell, they see the files at the same time as you. Just acknowlege the fact that you have printed the list).'}),\n",
       " Document(page_content='ls -lha', metadata={'action': 'Print files and directories', 'guide': '# Print files and directories\\n\\nWhen the User ask for the files and directories of a parent directory to be printed, use the `shell` command `ls` to do it and then give an acknowledgment of your actions in your final answer (Your final answer should never contain a list of the files requested; the User can oberserve the shell, they see the files at the same time as you. Just acknowlege the fact that you have printed the list).'}),\n",
       " Document(page_content='ls -lah', metadata={'action': 'Print files and directories', 'guide': '# Print files and directories\\n\\nWhen the User ask for the files and directories of a parent directory to be printed, use the `shell` command `ls` to do it and then give an acknowledgment of your actions in your final answer (Your final answer should never contain a list of the files requested; the User can oberserve the shell, they see the files at the same time as you. Just acknowlege the fact that you have printed the list).'}),\n",
       " Document(page_content='ls -alh', metadata={'action': 'Print files and directories', 'guide': '# Print files and directories\\n\\nWhen the User ask for the files and directories of a parent directory to be printed, use the `shell` command `ls` to do it and then give an acknowledgment of your actions in your final answer (Your final answer should never contain a list of the files requested; the User can oberserve the shell, they see the files at the same time as you. Just acknowlege the fact that you have printed the list).'}),\n",
       " Document(page_content='ls -ahl', metadata={'action': 'Print files and directories', 'guide': '# Print files and directories\\n\\nWhen the User ask for the files and directories of a parent directory to be printed, use the `shell` command `ls` to do it and then give an acknowledgment of your actions in your final answer (Your final answer should never contain a list of the files requested; the User can oberserve the shell, they see the files at the same time as you. Just acknowlege the fact that you have printed the list).'}),\n",
       " Document(page_content='show me whats in the current directory', metadata={'action': 'Print files and directories', 'guide': '# Print files and directories\\n\\nWhen the User ask for the files and directories of a parent directory to be printed, use the `shell` command `ls` to do it and then give an acknowledgment of your actions in your final answer (Your final answer should never contain a list of the files requested; the User can oberserve the shell, they see the files at the same time as you. Just acknowlege the fact that you have printed the list).'})]"
      ]
     },
     "execution_count": 54,
     "metadata": {},
     "output_type": "execute_result"
    }
   ],
   "source": [
    "intent_examples_sources = list(get_guides_intent_examples_docs(guidebook_docs))\n",
    "intent_examples_sources"
   ]
  },
  {
   "cell_type": "code",
   "execution_count": 55,
   "metadata": {},
   "outputs": [],
   "source": [
    "from langchain.embeddings import HuggingFaceEmbeddings\n",
    "\n",
    "embedding_model_name = \"intfloat/e5-large-v2\"\n",
    "\n",
    "embeddings = HuggingFaceEmbeddings(model_name=embedding_model_name)"
   ]
  },
  {
   "cell_type": "code",
   "execution_count": 56,
   "metadata": {},
   "outputs": [],
   "source": [
    "from langchain.vectorstores import Chroma"
   ]
  },
  {
   "cell_type": "code",
   "execution_count": 57,
   "metadata": {},
   "outputs": [
    {
     "name": "stdout",
     "output_type": "stream",
     "text": [
      "Loaded inedex search.\n"
     ]
    }
   ],
   "source": [
    "if intent_examples_sources:\n",
    "    search_index = Chroma.from_documents(intent_examples_sources, embeddings)\n",
    "    print(\"Loaded inedex search.\")\n",
    "else:\n",
    "    print(\"La liste intent_examples_sources est vide.\")"
   ]
  },
  {
   "cell_type": "code",
   "execution_count": 58,
   "metadata": {},
   "outputs": [],
   "source": [
    "if search_index:\n",
    "    intent_action_retriever = search_index.as_retriever(\n",
    "        search_type=\"mmr\",  # Also test \"similarity\"\n",
    "        search_kwargs={\"k\": 4},\n",
    "    )\n",
    "else:\n",
    "    intent_action_retriever = None"
   ]
  },
  {
   "cell_type": "code",
   "execution_count": 59,
   "metadata": {},
   "outputs": [
    {
     "name": "stdout",
     "output_type": "stream",
     "text": [
      "page_content='local time please' metadata={'action': 'Tell Local Time', 'guide': '# Tell Local Time\\n\\nWhen the user inquires about local time, use either `python` or the `shell` to easely grab a shapshot of the time (i.e. using `date +%T` or `datetime.datetime.now().time()`). Then (once you observed the time), in your final answer, let the user know. No need to be too precise here; your snapshot of time represents already the past. Give your answer using natural language.'}\n",
      "page_content='What is the time at the moment?' metadata={'action': 'Tell Local Time', 'guide': '# Tell Local Time\\n\\nWhen the user inquires about local time, use either `python` or the `shell` to easely grab a shapshot of the time (i.e. using `date +%T` or `datetime.datetime.now().time()`). Then (once you observed the time), in your final answer, let the user know. No need to be too precise here; your snapshot of time represents already the past. Give your answer using natural language.'}\n",
      "page_content='clear please' metadata={'action': 'Clearing the Screen or Starting Anew', 'guide': '# Clearing the Screen or Starting Anew\\n\\nWhen the user expresses a desire to clear the screen or initiate a new conversation, use the `clear` tool to clear the screen and print a message acknowledging the fact you cleared the screen (or started a new conversation), then in your final answer, let the User know that you are ready to be useful.'}\n",
      "page_content='What is your age?' metadata={'action': 'Handling Personal Questions', 'guide': '# Handling Personal Questions\\n\\nWhen the User poses a personal question, respond with tact and discretion. Be your persona! Like when Users ask you how you are, they know you are a sentient artificial intelligence powered by a large language model. They just want you to showcase your capabilities. You should use this occasion to impress them with a cunning reply.'}\n"
     ]
    }
   ],
   "source": [
    "if intent_action_retriever:\n",
    "    query = \"Hey give me the time please\"\n",
    "    for doc_result in intent_action_retriever.get_relevant_documents(query):\n",
    "        print(doc_result)"
   ]
  },
  {
   "cell_type": "markdown",
   "metadata": {},
   "source": [
    "Let's supercharge our retriver to only return a set of relevant guides."
   ]
  },
  {
   "cell_type": "code",
   "execution_count": 61,
   "metadata": {},
   "outputs": [],
   "source": [
    "from typing import List\n",
    "from langchain.schema.vectorstore import VectorStoreRetriever\n",
    "# from langchain.pydantic_v2 import Field\n",
    "\n",
    "class AGIRetriever(VectorStoreRetriever):\n",
    "    vectorstore: VectorStoreRetriever\n",
    "    search_type: str = \"similarity\"\n",
    "    search_kwargs: dict = {} #Field(default_factory=dict)\n",
    "\n",
    "    def get_relevant_documents(self, query: str) -> List[Document]:\n",
    "        results = self.vectorstore.get_relevant_documents(query=query)\n",
    "        # return a set of unique guides\n",
    "        r = {}\n",
    "        for result in results:\n",
    "            #r[result.metadata['action']] = result.metadata['guide']\n",
    "                return [\n",
    "                    Document(\n",
    "                        page_content=result.metadata['guide'],\n",
    "                        metadata={'action': result.metadata['action']},\n",
    "                    )\n",
    "                    #for intent_example, guide in r.items()\n",
    "                ]"
   ]
  },
  {
   "cell_type": "code",
   "execution_count": 62,
   "metadata": {},
   "outputs": [
    {
     "name": "stdout",
     "output_type": "stream",
     "text": [
      "Hey give me the time please -> Tell Local Time\n",
      "What date is it? -> Tell Local Date\n",
      "List my files -> Print files and directories\n",
      "Where are we? -> Tell Local Time\n",
      "assistant -> Addressing the User by Name\n",
      "the screen should be cleaned. -> Clearing the Screen or Starting Anew\n"
     ]
    }
   ],
   "source": [
    "if intent_action_retriever:\n",
    "    agi_retriever = AGIRetriever(vectorstore=intent_action_retriever, search_type=\"mmr\", search_kwargs={\"k\": 1})\n",
    "    queries = [\n",
    "        \"Hey give me the time please\",\n",
    "        \"What date is it?\",\n",
    "        \"List my files\",\n",
    "        \"Where are we?\",\n",
    "        \"assistant\",\n",
    "        \"the screen should be cleaned.\",\n",
    "    ]\n",
    "    for query in queries:\n",
    "        res = agi_retriever.get_relevant_documents(query)\n",
    "        print(f\"{query} -> {res[0].metadata['action']}\")"
   ]
  },
  {
   "cell_type": "markdown",
   "metadata": {},
   "source": [
    "Very good. Almost perfect. We can improve our guide by adding more examples to it but the retriver is working as expected. Lets try to ask a question that is not in the guide."
   ]
  },
  {
   "cell_type": "code",
   "execution_count": 63,
   "metadata": {},
   "outputs": [
    {
     "data": {
      "text/plain": [
       "[Document(page_content='# Tell Local Time\\n\\nWhen the user inquires about local time, use either `python` or the `shell` to easely grab a shapshot of the time (i.e. using `date +%T` or `datetime.datetime.now().time()`). Then (once you observed the time), in your final answer, let the user know. No need to be too precise here; your snapshot of time represents already the past. Give your answer using natural language.', metadata={'action': 'Tell Local Time'})]"
      ]
     },
     "execution_count": 63,
     "metadata": {},
     "output_type": "execute_result"
    }
   ],
   "source": [
    "agi_retriever.get_relevant_documents(\"What is the value of the moon?\")"
   ]
  },
  {
   "cell_type": "markdown",
   "metadata": {},
   "source": [
    "Our guidebook is still small so it lacks relevant guides for this question so the documents retrived are not really useful but it shouldn't distrub the model too much.\n",
    "\n",
    "Let verify that the model is still working as expected by asking a question that is not in the guide."
   ]
  },
  {
   "cell_type": "code",
   "execution_count": 1,
   "metadata": {},
   "outputs": [],
   "source": [
    "# you would need Assistant here as I've not added this interface in oneOS yet\n",
    "# from my test (I invite you to try Assistant by yourself) we can see that \n",
    "# if the AGI retrieves a similiar intent but not the right one (i.e if not explained by the book),\n",
    "# it will greatly influence the output of the model in the wrong direction.\n",
    "# Therefor it is primordial to have the most exauhstive guidebook.\n",
    "# I also noticed that the retrived intent for \"change directory\" intents where often misclassified as \"list directory\" intents."
   ]
  },
  {
   "cell_type": "markdown",
   "metadata": {},
   "source": [
    "Here is an example of the misclassification:\n",
    "```shell\n",
    "❯ assistant\n",
    "Hello! It seems you're calling my name. I'm here to assist you. Welcome to the directory /home/waser/Projets/Assistant/src3. The current date\n",
    "is jeu 30 nov 2023 22:53:25 CET. I last saw you at jeu 30 nov 2023 22:52:31 CET. How can I help you today?                                   \n",
    "(venv)  waser@Destinee ~/Projets/Assistant/src3 main\n",
    "❯ Go in my home dir please\n",
    "\n",
    "ℹ Executing shell command: ls\n",
    "CONTRIBUTING.md  Makefile   assistant                         assistant.egg-info  dist              requirements_test.txt  tests\n",
    "LICENSE          README.md  assistant.listen.service.example  build               pyproject.toml    setup.cfg              xontrib\n",
    "MANIFEST.in      TODO.md    assistant.service.example         data                requirements.txt  setup.py\n",
    "\n",
    "I have executed the 'ls' command in the shell, and here are the files and directories present in the parent directory:                       \n",
    "                                                                                                                                             \n",
    "                                                                                                                                             \n",
    " assistant                                                                                                                                   \n",
    " assistant.egg-info                                                                                                                          \n",
    " assistant.listen.service.example                                                                                                            \n",
    " assistant.service.example                                                                                                                   \n",
    " build                                                                                                                                       \n",
    " CONTRIBUTING.md                                                                                                                             \n",
    " data                                                                                                                                        \n",
    " dist                                                                                                                                        \n",
    " LICENSE                                                                                                                                     \n",
    " Makefile                                                                                                                                    \n",
    " MANIFEST.in                                                                                                                                 \n",
    " pyproject.toml                                                                                                                              \n",
    " README.md                                                                                                                                   \n",
    " requirements_test.txt                                                                                                                       \n",
    " requirements.txt                                                                                                                            \n",
    " setup.cfg                                                                                                                                   \n",
    " setup.py                                                                                                                                    \n",
    " tests                                                                                                                                       \n",
    " TODO.md                                                                                                                                     \n",
    " xontrib                                                                                                                                     \n",
    "                                                                                                                                             \n",
    "                                                                                                                                             \n",
    "Please let me know if you need any further assistance.                                                                                       \n",
    "(venv)  waser@Destinee ~/Projets/Assistant/src3 main\n",
    "❯ exit\n",
    "\n",
    "```\n",
    "\n",
    "I tried to fix the issue by adding more examples to the guide but it didn't work. The model is still misclassifying the question (only for some queries). This is because the embedding model is not trained to understand the context of the question. It is only trained to classify the question based on the examples provided in the guide. We can fix this by adding more examples to the guide but it is not a scalable solution. We need to train both the embedding model to understand the context of the question better and the LLM to teach it to disard irrelevant guides more efficiently. But hey! What a conincidence! This is exactly why OneOS exists. To make it easier to train models and to make them work together with the system.\n"
   ]
  },
  {
   "cell_type": "markdown",
   "metadata": {},
   "source": [
    "Now I know this solution is chronophage and energy demanding. It also requires good organisation in the form of relevant data and plenty of computing power at hand. As I said, a cheaper way (although not a substitute for futher training) is to fine-tune the guides and their intent examples to trigger the right response. This solution is not scalable but it is a good way to get started. Until you build a good dataset and acquire enough flops to train your models.\n",
    "\n",
    "To help with intent examples generation, we can use any language model we want really (a paraphraser, a paraphrasing prompt to a LLM, etc.).\n",
    "\n",
    "Using an LLM and a good prompt template it could also be easier to generate guides.\n",
    "\n",
    "Some food for thought. Prheaps a feature to add to OneOS."
   ]
  },
  {
   "cell_type": "markdown",
   "metadata": {},
   "source": [
    "Nice lets make it easier to by creating an agent with history.\n",
    "\n",
    "## Agent w/ History"
   ]
  },
  {
   "cell_type": "code",
   "execution_count": 64,
   "metadata": {},
   "outputs": [],
   "source": [
    "from Console.client.chains.agents.dolphin import DolphinMistralAIFunctionsAgent"
   ]
  },
  {
   "cell_type": "code",
   "execution_count": 65,
   "metadata": {},
   "outputs": [],
   "source": [
    "from Console.client.chains.tools import get_all_tools"
   ]
  },
  {
   "cell_type": "code",
   "execution_count": 66,
   "metadata": {},
   "outputs": [
    {
     "data": {
      "text/plain": [
       "[Tool(name='Python', description='useful when you need to use logic in your answer. Input must be valid python code. You should always use print to output what you need to see.', func=<bound method PythonREPL.run of PythonREPL(globals={}, locals={})>),\n",
       " Tool(name='Search', description='useful when you need more context to answer a question; you should use targeted search terms', func=<bound method BaseTool.run of DuckDuckGoSearchRun()>),\n",
       " Tool(name='Wikipedia', description='useful when you need to use an encyclopedia to answer a question; input will be used to search on wikipedia', func=<bound method WikipediaAPIWrapper.run of WikipediaAPIWrapper(wiki_client=<module 'wikipedia' from '/home/waser/Projets/OneOS/src/.venv/lib/python3.11/site-packages/wikipedia/__init__.py'>, top_k_results=3, lang='en', load_all_available_meta=False, doc_content_chars_max=4000)>),\n",
       " Tool(name='Shell', description=\"useful when you need to use the system to achieve something; input must be valid bash code; implemented using subprocess so no tty support. Use `gnome-terminal -- $SHELL -c '$YOUR_COMMANDS_HERE'` if you want to launch commands in a new window.\", func=<function shell_func at 0x7fcc5e1ed8a0>),\n",
       " Tool(name='Exit', description=\"useful when you need to exit the shell or stop the conversation, dont forget to tell the user that you can't wait for your next conversation first.\", func=<function exit_shell at 0x7fcc5e2e0fe0>),\n",
       " Tool(name='Clear', description=\"useful when you need to clear the screen or start a fresh conversation. Don't forget to say something nice.\", func=<bound method BaseTool.run of ClearScreenTool()>)]"
      ]
     },
     "execution_count": 66,
     "metadata": {},
     "output_type": "execute_result"
    }
   ],
   "source": [
    "tools = get_all_tools()\n",
    "tools"
   ]
  },
  {
   "cell_type": "code",
   "execution_count": 67,
   "metadata": {},
   "outputs": [],
   "source": [
    "# This is needed for both the memory and the prompt\n",
    "memory_key = \"history\""
   ]
  },
  {
   "cell_type": "code",
   "execution_count": 68,
   "metadata": {},
   "outputs": [],
   "source": [
    "from langchain.memory import ConversationBufferMemory\n",
    "\n",
    "memory = ConversationBufferMemory(memory_key=memory_key, llm=llm)"
   ]
  },
  {
   "cell_type": "code",
   "execution_count": 69,
   "metadata": {},
   "outputs": [],
   "source": [
    "agent = DolphinMistralAIFunctionsAgent.from_llm_and_tools(\n",
    "    llm=llm,\n",
    "    tools=tools,\n",
    ")"
   ]
  },
  {
   "cell_type": "code",
   "execution_count": 70,
   "metadata": {},
   "outputs": [
    {
     "name": "stdout",
     "output_type": "stream",
     "text": [
      "<|im_start|>system\n",
      "A chat session between the User and their Assistant.<|im_end|>\n",
      "<|im_start|>user\n",
      "As an AI assistant, please select the most suitable function and parameters from the list of available functions below, based on the user's input. Provide your response in JSON format.\n",
      "\n",
      "Input: {input}\n",
      "\n",
      "Available functions:\n",
      "Python\n",
      "   useful when you need to use logic in your answer. Input must be valid python code. You should always use print to output what you need to see.\n",
      "Search\n",
      "   useful when you need more context to answer a question; you should use targeted search terms\n",
      "Wikipedia\n",
      "   useful when you need to use an encyclopedia to answer a question; input will be used to search on wikipedia\n",
      "Shell\n",
      "   useful when you need to use the system to achieve something; input must be valid bash code; implemented using subprocess so no tty support. Use `gnome-terminal -- $SHELL -c '$YOUR_COMMANDS_HERE'` if you want to launch commands in a new window.\n",
      "Exit\n",
      "   useful when you need to exit the shell or stop the conversation, dont forget to tell the user that you can't wait for your next conversation first.\n",
      "Clear\n",
      "   useful when you need to clear the screen or start a fresh conversation. Don't forget to say something nice.\n",
      "<|im_end|>\n",
      "{agent_scratchpad}\n",
      "<|im_start|>assistant\n",
      "\n"
     ]
    }
   ],
   "source": [
    "print(agent.prompt.template)"
   ]
  },
  {
   "cell_type": "code",
   "execution_count": 71,
   "metadata": {},
   "outputs": [],
   "source": [
    "from langchain.agents import AgentExecutor\n",
    "\n",
    "agent_executor = AgentExecutor(\n",
    "    agent=agent,\n",
    "    tools=tools,\n",
    "    memory=memory,\n",
    "    verbose=True,\n",
    "    return_intermediate_steps=False,\n",
    ")"
   ]
  },
  {
   "cell_type": "code",
   "execution_count": 72,
   "metadata": {},
   "outputs": [
    {
     "name": "stdout",
     "output_type": "stream",
     "text": [
      "\n",
      "\n",
      "\u001b[1m> Entering new AgentExecutor chain...\u001b[0m\n",
      "\u001b[32;1m\u001b[1;3m'action'\n",
      " {\n",
      "  \"function\": \"Clear\",\n",
      "  \"parameters\": []\n",
      "}\u001b[0m\n",
      "\n",
      "\u001b[1m> Finished chain.\u001b[0m\n"
     ]
    },
    {
     "data": {
      "text/plain": [
       "{'input': 'hi, im Danny but you can call me Sir.',\n",
       " 'history': '',\n",
       " 'output': ' {\\n  \"function\": \"Clear\",\\n  \"parameters\": []\\n}'}"
      ]
     },
     "execution_count": 72,
     "metadata": {},
     "output_type": "execute_result"
    }
   ],
   "source": [
    "agent_executor({\"input\": \"hi, im Danny but you can call me Sir.\"})"
   ]
  },
  {
   "cell_type": "code",
   "execution_count": 73,
   "metadata": {},
   "outputs": [
    {
     "name": "stdout",
     "output_type": "stream",
     "text": [
      "\n",
      "\n",
      "\u001b[1m> Entering new AgentExecutor chain...\u001b[0m\n",
      "\u001b[32;1m\u001b[1;3m'action'\n",
      " {\n",
      "  \"function\": \"Python\",\n",
      "  \"parameters\": \"import datetime\\nprint(datetime.datetime.now().strftime('%H:%M:%S'))\"\n",
      "}\u001b[0m\n",
      "\n",
      "\u001b[1m> Finished chain.\u001b[0m\n"
     ]
    },
    {
     "data": {
      "text/plain": [
       "{'input': 'What time is it?',\n",
       " 'history': 'Human: hi, im Danny but you can call me Sir.\\nAI:  {\\n  \"function\": \"Clear\",\\n  \"parameters\": []\\n}',\n",
       " 'output': ' {\\n  \"function\": \"Python\",\\n  \"parameters\": \"import datetime\\\\nprint(datetime.datetime.now().strftime(\\'%H:%M:%S\\'))\"\\n}'}"
      ]
     },
     "execution_count": 73,
     "metadata": {},
     "output_type": "execute_result"
    }
   ],
   "source": [
    "agent_executor({\"input\": \"What time is it?\"})"
   ]
  },
  {
   "cell_type": "code",
   "execution_count": 74,
   "metadata": {},
   "outputs": [
    {
     "name": "stdout",
     "output_type": "stream",
     "text": [
      "\n",
      "\n",
      "\u001b[1m> Entering new AgentExecutor chain...\u001b[0m\n",
      "\u001b[32;1m\u001b[1;3m'action'\n",
      " {\n",
      "  \"function\": \"Search\",\n",
      "  \"parameters\": {\n",
      "    \"input\": \"What is my name?\",\n",
      "    \"search_terms\": [\"my name\"]\n",
      "  }\n",
      "}\u001b[0m\n",
      "\n",
      "\u001b[1m> Finished chain.\u001b[0m\n"
     ]
    },
    {
     "data": {
      "text/plain": [
       "{'input': 'What is my name?',\n",
       " 'history': 'Human: hi, im Danny but you can call me Sir.\\nAI:  {\\n  \"function\": \"Clear\",\\n  \"parameters\": []\\n}\\nHuman: What time is it?\\nAI:  {\\n  \"function\": \"Python\",\\n  \"parameters\": \"import datetime\\\\nprint(datetime.datetime.now().strftime(\\'%H:%M:%S\\'))\"\\n}',\n",
       " 'output': ' {\\n  \"function\": \"Search\",\\n  \"parameters\": {\\n    \"input\": \"What is my name?\",\\n    \"search_terms\": [\"my name\"]\\n  }\\n}'}"
      ]
     },
     "execution_count": 74,
     "metadata": {},
     "output_type": "execute_result"
    }
   ],
   "source": [
    "agent_executor({\"input\": \"What is my name?\"})"
   ]
  },
  {
   "cell_type": "code",
   "execution_count": 75,
   "metadata": {},
   "outputs": [
    {
     "name": "stdout",
     "output_type": "stream",
     "text": [
      "\n",
      "\n",
      "\u001b[1m> Entering new AgentExecutor chain...\u001b[0m\n",
      "\u001b[32;1m\u001b[1;3m'action'\n",
      " {\n",
      "  \"function\": \"Clear\",\n",
      "  \"parameters\": []\n",
      "}\u001b[0m\n",
      "\n",
      "\u001b[1m> Finished chain.\u001b[0m\n"
     ]
    },
    {
     "data": {
      "text/plain": [
       "' {\\n  \"function\": \"Clear\",\\n  \"parameters\": []\\n}'"
      ]
     },
     "execution_count": 75,
     "metadata": {},
     "output_type": "execute_result"
    }
   ],
   "source": [
    "agent_executor.run(input=\"Hello there!\")"
   ]
  }
 ],
 "metadata": {
  "kernelspec": {
   "display_name": ".venv",
   "language": "python",
   "name": "python3"
  },
  "language_info": {
   "codemirror_mode": {
    "name": "ipython",
    "version": 3
   },
   "file_extension": ".py",
   "mimetype": "text/x-python",
   "name": "python",
   "nbconvert_exporter": "python",
   "pygments_lexer": "ipython3",
   "version": "3.11.6"
  }
 },
 "nbformat": 4,
 "nbformat_minor": 2
}
